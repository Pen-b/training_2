{
 "cells": [
  {
   "cell_type": "markdown",
   "metadata": {},
   "source": [
    "# [Optimize the Products Price for an Online Vendor](https://www.analyticsvidhya.com/blog/2016/07/solving-case-study-optimize-products-price-online-vendor-level-hard/)\n",
    "\n",
    "Suppose, you are the owner of an online grocery store. You sell 250 products online. A conventional methodology has been applied to determine the price of each product. And, the methodology is very simple – price the product at par with the market price of the product.\n",
    "\n",
    "You plan to leverage analytics to determine pricing to maximize the revenue earned.\n",
    "\n",
    "Out of 100000 people who visit your website, only 5000 end up purchasing your products. Now, all those who made a purchase, you have obtained their buying patterns, including their average unit purchased etc.\n",
    "\n",
    "To understand the impact of price variations, you tried testing different price points for each product. You got astonished by the results. The impact can be broken down into two aspects:\n",
    "\n",
    "    A lower price point increases the volume of the purchased product.\n",
    "    \n",
    "    Customers compare price points of a few products more than others, to make a decision whether to buy products from your portal or not.\n",
    "\n",
    "For instance, Product 1 might be a frequently used product. If you decrease the price point of product 1, then the customer response rate which was initially 5% goes up to 5.2% over and above the fact that the customer will purchase more of product 1. On the other hand, decrease in product price obviously decreases the margin of the product.\n",
    "\n",
    "**Note: The maximum price hike permitted is 20%. So, basically the price of a product can be varied between -10% to +20% around the average price/unit.**\n",
    "\n",
    "Now, you want to find the optimum price points for each of the product to maximize the total profit earned. In this case study, you are provided with a table with all 250 items"
   ]
  },
  {
   "cell_type": "markdown",
   "metadata": {},
   "source": [
    "The variables available in the data set:\n",
    "\n",
    "| Field | Description |\n",
    "| --- | --- |\n",
    "|Average Price/Unit|Market price of the product|\n",
    "|Cost/Unit|Current cost of the product|\n",
    "|Average Profit/Unit|Profit for each unit|\n",
    "|Average units sold|Average number of units of product sold to a customer who makes a purchase|\n",
    "|Incremental acquisition|For every 10% decline in unit price, this is the increase in total customer response rate. Note that overall response rate initially is 5% (5000 out of 100000 make a purchase). You are allowed to decrease the price of a product maximum by 10% by market laws.|\n",
    "|Increase in sale volume|For every 10% decline in unit price of product, this is the increase in volume. Again, you are allowed to decrease the price of a product maximum by 10% by market laws.|\n"
   ]
  },
  {
   "cell_type": "code",
   "execution_count": 23,
   "metadata": {},
   "outputs": [],
   "source": [
    "import os\n",
    "import requests\n",
    "import pandas as pd\n",
    "import numpy as np\n",
    "import matplotlib.pyplot as plt\n",
    "\n",
    "# Env vars\n",
    "data_path = os.path.join(os.path.abspath('../data'))"
   ]
  },
  {
   "cell_type": "markdown",
   "metadata": {},
   "source": [
    "### ETL"
   ]
  },
  {
   "cell_type": "code",
   "execution_count": 19,
   "metadata": {},
   "outputs": [
    {
     "data": {
      "text/html": [
       "<div>\n",
       "<style scoped>\n",
       "    .dataframe tbody tr th:only-of-type {\n",
       "        vertical-align: middle;\n",
       "    }\n",
       "\n",
       "    .dataframe tbody tr th {\n",
       "        vertical-align: top;\n",
       "    }\n",
       "\n",
       "    .dataframe thead th {\n",
       "        text-align: right;\n",
       "    }\n",
       "</style>\n",
       "<table border=\"1\" class=\"dataframe\">\n",
       "  <thead>\n",
       "    <tr style=\"text-align: right;\">\n",
       "      <th></th>\n",
       "      <th>Products</th>\n",
       "      <th>Avg_Price_per_unit</th>\n",
       "      <th>Cost_per_unit</th>\n",
       "      <th>Average_Profit_per_unit</th>\n",
       "      <th>Average_units_sold</th>\n",
       "      <th>Incremental_acquisition</th>\n",
       "      <th>Increase_sale_volume</th>\n",
       "    </tr>\n",
       "  </thead>\n",
       "  <tbody>\n",
       "    <tr>\n",
       "      <th>0</th>\n",
       "      <td>Product 1</td>\n",
       "      <td>95</td>\n",
       "      <td>92</td>\n",
       "      <td>2.8</td>\n",
       "      <td>0.6</td>\n",
       "      <td>0.00323</td>\n",
       "      <td>0.08906</td>\n",
       "    </tr>\n",
       "  </tbody>\n",
       "</table>\n",
       "</div>"
      ],
      "text/plain": [
       "    Products  Avg_Price_per_unit  Cost_per_unit  Average_Profit_per_unit  \\\n",
       "0  Product 1                  95             92                      2.8   \n",
       "\n",
       "   Average_units_sold  Incremental_acquisition  Increase_sale_volume  \n",
       "0                 0.6                  0.00323               0.08906  "
      ]
     },
     "execution_count": 19,
     "metadata": {},
     "output_type": "execute_result"
    }
   ],
   "source": [
    "# Download and save data\n",
    "data_url = 'https://www.analyticsvidhya.com/wp-content/uploads/2016/07/Vendor_Data.csv'\n",
    "r = requests.get(data_url, allow_redirects=True)\n",
    "open(os.path.join(data_path,'Vendor_Data.csv'), 'wb').write(r.content)\n",
    "\n",
    "# load data\n",
    "df = pd.read_csv(os.path.join(data_path,'Vendor_Data.csv'))\n",
    "df[:1]"
   ]
  },
  {
   "cell_type": "markdown",
   "metadata": {},
   "source": [
    "### EDA\n",
    "\n",
    "***Profit Margin % per product***"
   ]
  },
  {
   "cell_type": "code",
   "execution_count": 68,
   "metadata": {},
   "outputs": [
    {
     "data": {
      "image/png": "[encoded data removed]",
      "text/plain": [
       "<Figure size 720x360 with 2 Axes>"
      ]
     },
     "metadata": {
      "needs_background": "light"
     },
     "output_type": "display_data"
    }
   ],
   "source": [
    "#calculate fields\n",
    "df['Profit_Margin_per_unit'] = (1-(df['Cost_per_unit']/df['Avg_Price_per_unit']))*100.0\n",
    "df['Profit_Margin_range'] = pd.cut(df['Profit_Margin_per_unit'],bins=[0,10,25,100],labels=['Lo','Me','Hi'])\n",
    "\n",
    "#plot\n",
    "fig,axs=plt.subplots(1,2,figsize=(10,5))\n",
    "pd.cut(df['Profit_Margin_per_unit'],bins=np.arange(0,45,5)).value_counts().sort_index().plot.bar(title='Profit_Margin_per_unit %',ax=axs[0])\n",
    "df['Profit_Margin_range'].value_counts().sort_index().plot.bar(title='Profit_Margin_range',ax=axs[1])\n",
    "plt.ylabel('Frequency');"
   ]
  },
  {
   "cell_type": "markdown",
   "metadata": {},
   "source": [
    "***Product Incremental Sales Volume***\n"
   ]
  },
  {
   "cell_type": "code",
   "execution_count": 70,
   "metadata": {},
   "outputs": [
    {
     "data": {
      "image/png": "[encoded data removed]",
      "text/plain": [
       "<Figure size 720x360 with 2 Axes>"
      ]
     },
     "metadata": {
      "needs_background": "light"
     },
     "output_type": "display_data"
    }
   ],
   "source": [
    "# calc field\n",
    "df['Increase_sale_volume_range'] = pd.cut(df['Increase_sale_volume'],bins=[0,.02,.06,1],labels=['Lo','Me','Hi'])\n",
    "\n",
    "#plot\n",
    "fig,axs=plt.subplots(1,2,figsize=(10,5))\n",
    "pd.cut(df['Increase_sale_volume'],bins=np.arange(0,0.12,.02)).value_counts().sort_index().plot.bar(title='Incremental Volume',ax=axs[0])\n",
    "df['Increase_sale_volume_range'].value_counts().sort_index().plot.bar(title='Increase Sale Vol range',ax=axs[1])\n",
    "plt.ylabel('Frequency');"
   ]
  },
  {
   "cell_type": "markdown",
   "metadata": {},
   "source": [
    "***Incremental Aquisition***"
   ]
  },
  {
   "cell_type": "code",
   "execution_count": 73,
   "metadata": {},
   "outputs": [
    {
     "data": {
      "image/png": "[encoded data removed]",
      "text/plain": [
       "<Figure size 720x360 with 2 Axes>"
      ]
     },
     "metadata": {
      "needs_background": "light"
     },
     "output_type": "display_data"
    }
   ],
   "source": [
    "# calc field\n",
    "df['Increase_aqcusition_range'] = pd.cut(df['Incremental_acquisition'],bins=[0,.001,.004,1],labels=['Lo','Me','Hi'])\n",
    "\n",
    "#plot\n",
    "fig,axs=plt.subplots(1,2,figsize=(10,5))\n",
    "pd.cut(df['Incremental_acquisition'],bins=np.arange(0,0.008,.001)).value_counts().sort_index().plot.bar(title='Incremental Aquisition',ax=axs[0])\n",
    "df['Increase_aqcusition_range'].value_counts().sort_index().plot.bar(title='Increase_aqcusition_range',ax=axs[1])\n",
    "plt.ylabel('Frequency');"
   ]
  },
  {
   "cell_type": "code",
   "execution_count": null,
   "metadata": {},
   "outputs": [],
   "source": []
  }
 ],
 "metadata": {
  "kernelspec": {
   "display_name": "Python [conda env:machine-learning]",
   "language": "python",
   "name": "conda-env-machine-learning-py"
  },
  "language_info": {
   "codemirror_mode": {
    "name": "ipython",
    "version": 3
   },
   "file_extension": ".py",
   "mimetype": "text/x-python",
   "name": "python",
   "nbconvert_exporter": "python",
   "pygments_lexer": "ipython3",
   "version": "3.7.5"
  }
 },
 "nbformat": 4,
 "nbformat_minor": 4
}
