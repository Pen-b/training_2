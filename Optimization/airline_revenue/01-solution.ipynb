{
 "cells": [
  {
   "cell_type": "markdown",
   "metadata": {
    "_cell_guid": "b1076dfc-b9ad-4769-8c92-a6c4dae69d19",
    "_uuid": "8f2839f25d086af736a60e9eeb907d3b93b6e0e5"
   },
   "source": [
    "# Intro\n",
    "\n",
    "This is my solution to the [Airline Price Optimization Micro-Challenge](https://www.kaggle.com/dansbecker/airline-price-optimization-micro-challenge).  If you haven't tried the micro-challenge yourself, do it.  It is fun, you can create reasonably strong solutions in only 5 minutes, and you'll appreciate other solutions more if you try it yourself.\n",
    "\n",
    "\n",
    "---\n",
    "\n",
    "# Strategy\n",
    "\n",
    "This solution uses an optimization technique called **dynamic programming**.  **Dynamic programming** starts by solving an optimization problem in a very limited scenario, and then creates an iterative rule to expand to larger problem.\n",
    "\n",
    "In our case, we first solve for the optimal price when you only have 1 day to sell tickets before the flight.  Then we continually step back to longer time-horizons one day at a time.\n",
    "\n",
    "This solution highlights two of the most important ideas from the fields of dynamic programming and reinforcement learning.  \n",
    "- The **value function** returns the best outcome achievable from any input state.  In our case, **V(tickets_left, days_left)** returns the best revenue you can expect to achieve given the number of tickets you have and the number of days left before the flight.\n",
    "-  The **Q Function** is similar to the value function. But it includes your decision as an input, and it returns the expected revenue even if that is not based on an optimal decision policy.\n",
    "\n",
    "The distinction may become clearer when you see it in practice below. \n",
    "\n",
    "The output of the Q function for **T+1** days before the flight depends how much revenue is the sum of \n",
    "- revenue from flights sold that day\n",
    "- revenue earned in the last **T** days from the remaining tickets.\n",
    "\n",
    "Daily revenue is straightforward to calculate (as you'll see below.)  Since we calculate **Q** and the value function (denoted **V**) start near flight time, and then iteratively work backwards, we can look up revenue from the last **T** days from the value function.\n",
    "\n",
    "Once we have **Q** at time T+1,  we calculate **V** on that day by looking up the revenue associated with the best decision from **Q**.\n",
    "\n",
    "Again, this should become clearer as you see it in code.\n",
    "\n",
    "# The Base Case: Selling Tickets For a Single Day\n",
    "\n",
    "You want to maximize revenue, given the knowledge that \n",
    "> quantity_sold = demand_level - price\n",
    "\n",
    "You may want to keep the price high rather than sell all remaining tickets. So, this problem is not as trivial as finding the price to sell all available tickets.  Instead, you will go back to find the price and quantity pair that maximize \n",
    "> revenue = price * quantity_sold\n",
    "\n",
    "It's easier to think about optimization in terms of a single choice variable, rather than using an equation that explicitly includes both `price` and `quantity_sold`. To do this, first rearrange the `quantity_sold` equation above with simple algebra to solve for price:\n",
    "> price = demand_level - quantity_sold\n",
    "\n",
    "Plug this expression for price into the revenue equation and you have\n",
    "> revenue = (demand_level - quantity_sold) * quantity_sold\n",
    "\n",
    "*note: you could also express revenue entirely in terms of price instead of quantity, but would make a later steps a little messier.\n",
    "\n",
    "Since `demand_level` is just a known number when you make your daily price decisions, you can plot revenue as an equation that depends only on the quantity you sell. \n",
    "\n",
    "For the sake of an example, here is the plot when `demand_level` is 150.\n"
   ]
  },
  {
   "cell_type": "code",
   "execution_count": 2,
   "metadata": {
    "_cell_guid": "79c7e3d0-c299-4dcb-8224-4455121ee9b0",
    "_kg_hide-input": true,
    "_kg_hide-output": false,
    "_uuid": "d629ff2d2480ee46fbb7e2d37f6b5fab8052498a"
   },
   "outputs": [
    {
     "data": {
      "image/png": "[encoded data removed]",
      "text/plain": [
       "<Figure size 432x288 with 1 Axes>"
      ]
     },
     "metadata": {
      "needs_background": "light"
     },
     "output_type": "display_data"
    }
   ],
   "source": [
    "import matplotlib.pyplot as plt\n",
    "import numpy as np\n",
    "\n",
    "demand_level = 150\n",
    "# only plot quantities up to demand_level. That's point where price becomes 0\n",
    "revenue = [(demand_level - q) * q for q in range(demand_level)]\n",
    "\n",
    "# Make primary plot\n",
    "plt.plot(revenue, label=\"Revenue\")\n",
    "plt.xlabel(\"Seats Sold\")\n",
    "plt.ylabel(\"Dollars\")\n",
    "plt.ylim(ymin=0)\n",
    "plt.xlim(xmin=0)\n",
    "\n",
    "# Show the revenue maximizing quantity\n",
    "optimal_q = np.argmax(revenue)\n",
    "plt.vlines(x=optimal_q, ymin=0, ymax=max(revenue), color='green', linestyle=\"--\", label=\"Optimal Quantity\")\n",
    "\n",
    "plt.legend(loc='lower right')\n",
    "plt.show()"
   ]
  },
  {
   "cell_type": "markdown",
   "metadata": {
    "_uuid": "42ccdf535540a342e7bc74a0500f980b4ab901fc"
   },
   "source": [
    "# Setting Up Q and V\n",
    "Since the inputs to the V and Q functions take a limited number of values, we can store these function outputs in numpy arrays, indexed by the inputs. \n",
    "\n",
    "We'll include the `demand_level` as an input to Q, since that will affect your decision.  In practice, we use V to look up potential revenue for future days, and we won't know `demand_level` on those days when we do the lookup.  So, instead we will take an \"expected value\" by averaging over the future revenue from a range of demand levels.  For simplicity, we discretize the possible demand levels, calculating from a set of evenly spread values.\n",
    "\n",
    "Here is the set-up code:"
   ]
  },
  {
   "cell_type": "code",
   "execution_count": 3,
   "metadata": {
    "_uuid": "a10250dc29fdf5bef2bb1e5c3efe9dd29e6cd1ec"
   },
   "outputs": [],
   "source": [
    "n_demand_levels = 11\n",
    "min_demand_level = 100\n",
    "max_demand_level = 200\n",
    "demand_levels = np.linspace(min_demand_level, max_demand_level, n_demand_levels)\n",
    "\n",
    "max_tickets = 200\n",
    "max_days = 150\n",
    "\n",
    "# Q indices are: n_sold in day, tickets_left to start day, demand_level, days_left\n",
    "Q = np.zeros([max_tickets, max_tickets, n_demand_levels, max_days])\n",
    "# V indices are: n_left and n_days\n",
    "V = np.zeros([max_tickets, max_days])\n"
   ]
  },
  {
   "cell_type": "markdown",
   "metadata": {
    "_uuid": "f9cb30525829b0aa60565a2cd5feb943bb1dcf13"
   },
   "source": [
    "# The Base Case: Selling With One Day Left\n",
    "We then fill in Q values with `revenue = price * tickets_sold`.  Since this is the last day before the flight, we don't need to worry about future values.\n",
    "\n",
    "The code for V is a little trickier than Q. So it is explained in the code comments."
   ]
  },
  {
   "cell_type": "code",
   "execution_count": 4,
   "metadata": {
    "_uuid": "f1db8236e2508f7bd67e84ad29fa235c2f42367e"
   },
   "outputs": [],
   "source": [
    "for tickets_left in range(max_tickets):\n",
    "    for tickets_sold in range(tickets_left+1): # add 1 to offset 0 indexing. Allow selling all tickets\n",
    "        for demand_index, demand_level in enumerate(demand_levels):\n",
    "            # Never set negative prices\n",
    "            price = max(demand_level - tickets_sold, 0)\n",
    "            Q[tickets_sold, tickets_left, demand_index, 0] = price * tickets_sold\n",
    "    # For each demand_level, choose the optimum number to sell. Output of this is array .of size n_demand_levels\n",
    "    revenue_from_best_quantity_at_each_demand_level = Q[:, tickets_left, :, 0].max(axis=0)\n",
    "    # take the average, since we don't know demand level ahead of time and all are equally likely\n",
    "    V[tickets_left, 0] = revenue_from_best_quantity_at_each_demand_level.mean()"
   ]
  },
  {
   "cell_type": "markdown",
   "metadata": {
    "_uuid": "ac040a954c0e8e6701fd931f0f80747998f2b299"
   },
   "source": [
    "# The General Case: Solving for Other Time Horizons\n",
    "Now we iteratively calculate V and Q for time periods further back.  \n",
    "\n",
    "The Q function now calculates current revenue as you saw above, but then adds the **V** of leftover tickets.\n",
    "\n",
    "\n",
    "*note: for readibility, this code is not vectorized. It could likely be written to run faster.*"
   ]
  },
  {
   "cell_type": "code",
   "execution_count": 5,
   "metadata": {
    "_uuid": "0d4116f743bbd34c08d338954d2a7e3886026719"
   },
   "outputs": [],
   "source": [
    "for days_left in range(1, max_days):\n",
    "    for tickets_left in range(max_tickets):\n",
    "        for tickets_sold in range(tickets_left):\n",
    "            for demand_index, demand_level in enumerate(demand_levels):\n",
    "                price = max(demand_level - tickets_sold, 0)\n",
    "                rev_today = price * tickets_sold\n",
    "                Q[tickets_sold, tickets_left, demand_index, days_left] = rev_today + V[tickets_left-tickets_sold, days_left-1]\n",
    "        expected_total_rev_from_best_quantity_at_each_demand_level = Q[:, tickets_left, :, days_left].max(axis=0)\n",
    "        V[tickets_left, days_left] = expected_total_rev_from_best_quantity_at_each_demand_level.mean()"
   ]
  },
  {
   "cell_type": "markdown",
   "metadata": {
    "_uuid": "b7249aa3c859d42fd23f0ed029faf7ee64056e0d"
   },
   "source": [
    "We have **Q** and **V**.  How do we use them?\n",
    "\n",
    "For any given number of tickets, days_left and demand_level, we look in **Q** to find the number of tickets with the highest Q-value.\n",
    "\n",
    "Here is our pricing function that implements that:"
   ]
  },
  {
   "cell_type": "code",
   "execution_count": 6,
   "metadata": {
    "_uuid": "9056df8d6a803f873128b358894f1859d625bc0f"
   },
   "outputs": [],
   "source": [
    "def pricing_function(days_left, tickets_left, demand_level):\n",
    "    demand_level_index = np.abs(demand_level - demand_levels).argmin()\n",
    "    day_index = days_left - 1 # arrays are 0 indexed\n",
    "    tickets_index = int(tickets_left)  # in case it comes in as float, but need to index with it\n",
    "    relevant_Q_vals = Q[:, tickets_index, demand_level_index, day_index]\n",
    "    desired_quantity = relevant_Q_vals.argmax()# offset 0 indexing\n",
    "    price = demand_level - desired_quantity\n",
    "    return price"
   ]
  },
  {
   "cell_type": "markdown",
   "metadata": {
    "_uuid": "34d6d01735ec05cb0051f1e5f5d2476c76f39237"
   },
   "source": [
    "And here is the score:"
   ]
  },
  {
   "cell_type": "code",
   "execution_count": 7,
   "metadata": {
    "_uuid": "f9d888e47d95d6348a0810d7830421600322c0cd"
   },
   "outputs": [
    {
     "name": "stdout",
     "output_type": "stream",
     "text": [
      "Ran 200 flights starting 100 days before flight with 100 tickets. Average revenue: $18413\n",
      "Ran 200 flights starting 14 days before flight with 50 tickets. Average revenue: $8492\n",
      "Ran 200 flights starting 2 days before flight with 20 tickets. Average revenue: $2897\n",
      "Ran 200 flights starting 1 days before flight with 3 tickets. Average revenue: $431\n"
     ]
    },
    {
     "data": {
      "application/javascript": [
       "parent.postMessage({\"jupyterEvent\": \"custom.exercise_interaction\", \"data\": {\"learnTutorialId\": 117, \"interactionType\": \"check\", \"questionId\": \"Aug31OptimizationChallenge\", \"outcomeType\": \"Pass\", \"valueTowardsCompletion\": 0.7558045931440118, \"failureMessage\": null, \"learnToolsVersion\": \"Testing\"}}, \"*\")"
      ],
      "text/plain": [
       "<IPython.core.display.Javascript object>"
      ]
     },
     "metadata": {},
     "output_type": "display_data"
    },
    {
     "name": "stdout",
     "output_type": "stream",
     "text": [
      "Average revenue across all flights is $7558\n"
     ]
    }
   ],
   "source": [
    "import sys\n",
    "from flight_revenue_simulator import simulate_revenue, score_me\n",
    "\n",
    "score_me(pricing_function)"
   ]
  },
  {
   "cell_type": "markdown",
   "metadata": {
    "_uuid": "f67fe8712fbe24a8a726441bde7846e64deefb2a"
   },
   "source": [
    "# The Challenge\n",
    "\n",
    "If you beat $7558, let others know what you did by making your notebook public and posting a link in the comments."
   ]
  }
 ],
 "metadata": {
  "kernelspec": {
   "display_name": "Python 3",
   "language": "python",
   "name": "python3"
  },
  "language_info": {
   "codemirror_mode": {
    "name": "ipython",
    "version": 3
   },
   "file_extension": ".py",
   "mimetype": "text/x-python",
   "name": "python",
   "nbconvert_exporter": "python",
   "pygments_lexer": "ipython3",
   "version": "3.7.4"
  }
 },
 "nbformat": 4,
 "nbformat_minor": 4
}
