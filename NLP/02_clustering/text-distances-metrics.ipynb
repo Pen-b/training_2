{
 "cells": [
  {
   "cell_type": "code",
   "execution_count": 27,
   "metadata": {},
   "outputs": [
    {
     "name": "stdout",
     "output_type": "stream",
     "text": [
      "Collecting textdistance\n",
      "  Downloading textdistance-4.1.5-py3-none-any.whl (28 kB)\n",
      "Installing collected packages: textdistance\n",
      "Successfully installed textdistance-4.1.5\n"
     ]
    }
   ],
   "source": [
    "!pip install textdistance"
   ]
  },
  {
   "cell_type": "code",
   "execution_count": 28,
   "metadata": {},
   "outputs": [],
   "source": [
    "import textdistance"
   ]
  },
  {
   "cell_type": "code",
   "execution_count": null,
   "metadata": {},
   "outputs": [],
   "source": [
    "textdistance.jaro_winkler()"
   ]
  },
  {
   "cell_type": "code",
   "execution_count": 19,
   "metadata": {},
   "outputs": [],
   "source": [
    "import itertools\n",
    "ij = ['apple','apple juice','applange','apple cider','apple inc']\n",
    "ij = [x for x in itertools.combinations(ij, 2)]"
   ]
  },
  {
   "cell_type": "code",
   "execution_count": 26,
   "metadata": {},
   "outputs": [
    {
     "data": {
      "text/plain": [
       "['ap', 'pl', 'es', ' j', 'ui', 'ce']"
      ]
     },
     "execution_count": 26,
     "metadata": {},
     "output_type": "execute_result"
    }
   ],
   "source": [
    "x = 'apples juice'\n",
    "[ x[i:i+2] for i in range(0, len(x), 2) ]"
   ]
  },
  {
   "cell_type": "code",
   "execution_count": 20,
   "metadata": {},
   "outputs": [],
   "source": [
    "def get_jaccard_sim(str1, str2): \n",
    "    a = set(str1.split()) \n",
    "    b = set(str2.split())\n",
    "    c = a.intersection(b)\n",
    "    return float(len(c)) / (len(a) + len(b) - len(c))"
   ]
  },
  {
   "cell_type": "code",
   "execution_count": 23,
   "metadata": {},
   "outputs": [
    {
     "data": {
      "text/plain": [
       "[(('apple', 'apple juice'), 0.5),\n",
       " (('apple', 'applange'), 0.0),\n",
       " (('apple', 'apple cider'), 0.5),\n",
       " (('apple', 'apple inc'), 0.5),\n",
       " (('apple juice', 'applange'), 0.0),\n",
       " (('apple juice', 'apple cider'), 0.3333333333333333),\n",
       " (('apple juice', 'apple inc'), 0.3333333333333333),\n",
       " (('applange', 'apple cider'), 0.0),\n",
       " (('applange', 'apple inc'), 0.0),\n",
       " (('apple cider', 'apple inc'), 0.3333333333333333)]"
      ]
     },
     "execution_count": 23,
     "metadata": {},
     "output_type": "execute_result"
    }
   ],
   "source": [
    "[(i,get_jaccard_sim(i[0],i[1])) for i in ij]"
   ]
  },
  {
   "cell_type": "code",
   "execution_count": 29,
   "metadata": {},
   "outputs": [
    {
     "data": {
      "text/plain": [
       "[(('apple', 'apple juice'), 0.890909090909091),\n",
       " (('apple', 'applange'), 0.925),\n",
       " (('apple', 'apple cider'), 0.890909090909091),\n",
       " (('apple', 'apple inc'), 0.9111111111111111),\n",
       " (('apple juice', 'applange'), 0.6931818181818182),\n",
       " (('apple juice', 'apple cider'), 0.905050505050505),\n",
       " (('apple juice', 'apple inc'), 0.9232323232323232),\n",
       " (('applange', 'apple cider'), 0.6931818181818182),\n",
       " (('applange', 'apple inc'), 0.85),\n",
       " (('apple cider', 'apple inc'), 0.8982323232323232)]"
      ]
     },
     "execution_count": 29,
     "metadata": {},
     "output_type": "execute_result"
    }
   ],
   "source": [
    "[(i,textdistance.jaro_winkler(i[0],i[1])) for i in ij]"
   ]
  }
 ],
 "metadata": {
  "kernelspec": {
   "display_name": "Python [conda env:machine-learning]",
   "language": "python",
   "name": "conda-env-machine-learning-py"
  },
  "language_info": {
   "codemirror_mode": {
    "name": "ipython",
    "version": 3
   },
   "file_extension": ".py",
   "mimetype": "text/x-python",
   "name": "python",
   "nbconvert_exporter": "python",
   "pygments_lexer": "ipython3",
   "version": "3.7.5"
  }
 },
 "nbformat": 4,
 "nbformat_minor": 4
}
