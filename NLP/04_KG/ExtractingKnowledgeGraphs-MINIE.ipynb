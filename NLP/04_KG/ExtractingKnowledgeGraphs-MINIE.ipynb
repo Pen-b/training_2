{
 "cells": [
  {
   "cell_type": "markdown",
   "metadata": {},
   "source": [
    "- https://www.microsoft.com/developerblog/2016/09/13/training-a-classifier-for-relation-extraction-from-medical-literature/#Reuse\n",
    "- https://github.com/bpostance/corpus-to-graph-ml\n",
    "- https://stackoverflow.com/questions/44096918/how-to-implement-end-to-end-relation-extraction-using-lstms\n",
    "- https://github.com/bpostance/LSTM-ER\n",
    "- https://www.aclweb.org/anthology/P16-1105.pdf\n",
    "- https://www.reddit.com/r/MachineLearning/comments/bd4zrl/d_knowledge_graphs_how_do_you_build_your_own/\n",
    "- https://medium.com/vectrconsulting/build-your-own-knowledge-graph-975cf6dde67f\n",
    "- https://mnick.github.io/project/knowledge-graph-embeddings/\n",
    "- https://databricks.com/session/deep-learning-for-domain-specific-entity-extraction-from-unstructured-text\n",
    "- https://github.com/IBM/build-knowledge-base-with-domain-specific-documents\n",
    "- https://github.com/thunlp/OpenKE\n",
    "- https://ahmedbesbes.com/how-to-mine-newsfeed-data-and-extract-interactive-insights-in-python.html"
   ]
  },
  {
   "cell_type": "code",
   "execution_count": null,
   "metadata": {},
   "outputs": [],
   "source": []
  }
 ],
 "metadata": {
  "kernelspec": {
   "display_name": "Python [conda env:machine-learning]",
   "language": "python",
   "name": "conda-env-machine-learning-py"
  },
  "language_info": {
   "codemirror_mode": {
    "name": "ipython",
    "version": 3
   },
   "file_extension": ".py",
   "mimetype": "text/x-python",
   "name": "python",
   "nbconvert_exporter": "python",
   "pygments_lexer": "ipython3",
   "version": "3.7.5"
  }
 },
 "nbformat": 4,
 "nbformat_minor": 4
}
