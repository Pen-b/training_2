{
 "cells": [
  {
   "cell_type": "markdown",
   "id": "organizational-office",
   "metadata": {},
   "source": [
    "[OpenNRE](https://github.com/thunlp/OpenNRE) and [Paper](https://aclanthology.org/D19-3029.pdf)\n"
   ]
  },
  {
   "cell_type": "code",
   "execution_count": 1,
   "id": "peripheral-estimate",
   "metadata": {},
   "outputs": [],
   "source": [
    "import opennre"
   ]
  },
  {
   "cell_type": "code",
   "execution_count": 2,
   "id": "following-clinic",
   "metadata": {},
   "outputs": [
    {
     "name": "stderr",
     "output_type": "stream",
     "text": [
      "2022-01-15 10:47:49,438 - root - INFO - Initializing word embedding with word2vec.\n",
      "2022-01-15 10:47:50,204 - root - INFO - Loading BERT pre-trained checkpoint.\n"
     ]
    }
   ],
   "source": [
    "model = opennre.get_model('wiki80_cnn_softmax')\n",
    "model = opennre.get_model('wiki80_bert_softmax')"
   ]
  },
  {
   "cell_type": "code",
   "execution_count": 3,
   "id": "standard-spider",
   "metadata": {},
   "outputs": [
    {
     "name": "stdout",
     "output_type": "stream",
     "text": [
      "Tesco Plc <<< They\n"
     ]
    },
    {
     "data": {
      "text/plain": [
       "('owned by', 0.9509477615356445)"
      ]
     },
     "execution_count": 3,
     "metadata": {},
     "output_type": "execute_result"
    }
   ],
   "source": [
    "txt = 'Tesco Plc is the biggest supermarket. They operate around the world'\n",
    "# for e,i in enumerate(txt.split(' ')):\n",
    "#     print(e,i)\n",
    "h =(0,9)\n",
    "t = (38,42)\n",
    "print(txt[h[0]:h[1]],'<<<',txt[t[0]:t[1]])\n",
    "\n",
    "model.infer({'text': txt,\n",
    "             'h': {'pos': h},\n",
    "             't': {'pos': t}})"
   ]
  },
  {
   "cell_type": "code",
   "execution_count": 4,
   "id": "metric-trial",
   "metadata": {},
   "outputs": [
    {
     "name": "stdout",
     "output_type": "stream",
     "text": [
      "Johnny <<< skiing.\n"
     ]
    },
    {
     "data": {
      "text/plain": [
       "('characters', 0.19515416026115417)"
      ]
     },
     "execution_count": 4,
     "metadata": {},
     "output_type": "execute_result"
    }
   ],
   "source": [
    "txt = 'Johnny is a big fan of skiing.'\n",
    "# for e,i in enumerate(txt.split(' ')):\n",
    "#     print(e,i)\n",
    "h =(0,6)\n",
    "t = (23,31)\n",
    "print(txt[h[0]:h[1]],'<<<',txt[t[0]:t[1]])\n",
    "\n",
    "model.infer({'text': txt,\n",
    "             'h': {'pos': h},\n",
    "             't': {'pos': t}})"
   ]
  },
  {
   "cell_type": "code",
   "execution_count": 5,
   "id": "forbidden-medline",
   "metadata": {},
   "outputs": [
    {
     "name": "stdout",
     "output_type": "stream",
     "text": [
      "Tesco Plc <<< customers\n"
     ]
    },
    {
     "data": {
      "text/plain": [
       "('owned by', 0.9490365386009216)"
      ]
     },
     "execution_count": 5,
     "metadata": {},
     "output_type": "execute_result"
    }
   ],
   "source": [
    "txt = \"\"\"Johnny is a big fan of skiing. Johnny is a man. Lydia is a woman who likes cycling. Johnny also enjoys cycling but Lydia is a fan of music. \n",
    "Tesco Plc is the lagest supermarket chain in the UK. \n",
    "Their customers shop on average three times per week. \n",
    "But their customers buy fuel from other places.\"\"\"\n",
    "\n",
    "# for e,i in enumerate(txt.split(' ')):\n",
    "#     print(e,i)\n",
    "h =(141,150)\n",
    "t = (195,200) # 1st \"Their\"\n",
    "t = (254,259) # 2nd \"Their\"\n",
    "t = (254,269) # 2nd \"Their Customers\"\n",
    "t = (260,269) # last \"Customers\"\n",
    "print(txt[h[0]:h[1]],'<<<',txt[t[0]:t[1]])\n",
    "\n",
    "model.infer({'text': txt,\n",
    "             'h': {'pos': h},\n",
    "             't': {'pos': t}})"
   ]
  },
  {
   "cell_type": "code",
   "execution_count": 11,
   "id": "turned-selling",
   "metadata": {},
   "outputs": [
    {
     "name": "stdout",
     "output_type": "stream",
     "text": [
      "customers <<< week\n"
     ]
    },
    {
     "data": {
      "text/plain": [
       "('main subject', 0.5622040629386902)"
      ]
     },
     "execution_count": 11,
     "metadata": {},
     "output_type": "execute_result"
    }
   ],
   "source": [
    "txt = \"\"\"Their customers shop on average three times per week.\"\"\"\n",
    "\n",
    "# for e,i in enumerate(txt.split(' ')):\n",
    "#     print(e,i)\n",
    "h =(6,15)\n",
    "t = (48,52) # 1st \"Their\"\n",
    "print(txt[h[0]:h[1]],'<<<',txt[t[0]:t[1]])\n",
    "\n",
    "model.infer({'text': txt,\n",
    "             'h': {'pos': h},\n",
    "             't': {'pos': t}})"
   ]
  },
  {
   "cell_type": "code",
   "execution_count": null,
   "id": "prompt-extra",
   "metadata": {},
   "outputs": [],
   "source": []
  }
 ],
 "metadata": {
  "kernelspec": {
   "display_name": "py37",
   "language": "python",
   "name": "py37"
  },
  "language_info": {
   "codemirror_mode": {
    "name": "ipython",
    "version": 3
   },
   "file_extension": ".py",
   "mimetype": "text/x-python",
   "name": "python",
   "nbconvert_exporter": "python",
   "pygments_lexer": "ipython3",
   "version": "3.7.12"
  }
 },
 "nbformat": 4,
 "nbformat_minor": 5
}
