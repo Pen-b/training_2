{
 "cells": [
  {
   "cell_type": "markdown",
   "metadata": {},
   "source": [
    " - [IE](http://www.nltk.org/howto/relextract.html)\n",
    " - [IE](https://www.nltk.org/book/ch07.html)\n",
    " - [Oreilly](https://learning.oreilly.com/library/view/natural-language-processing/9781787285101/ch04s07.html)\n",
    " - [rel_extracts](https://www.nltk.org/_modules/nltk/sem/relextract.html)"
   ]
  },
  {
   "cell_type": "markdown",
   "metadata": {},
   "source": [
    "# Named-entity recognition (NER)\n",
    "We learnt about taggers and parsers that we can use to build a basic information extraction engine. Let's jump directly to a very basic IE engine and how a typical IE engine can be developed using NLTK.\n",
    "\n",
    "Any sort of meaningful information can be drawn only if the given input stream goes to each of the following NLP steps. We already have enough understanding of sentence tokenization, word tokenization, and POS tagging. Let's discuss NER and relation extraction as well.\n",
    "\n",
    "We already briefly discussed NER generally in the last chapter. Essentially, NER is a way of extracting some of the most common entities, such as names, organizations, and locations. However, some of the modified NER can be used to extract entities such as product names, biomedical entities, author names, brand names, and so on.\n",
    "\n",
    "Let's start with a very generic example where we are given a text file of the content and we need to extract some of the most insightful named entities from it:\n",
    "\n",
    "In the following code, we just followed the same pipeline provided in the preceding figure. We took all the preprocessing steps, such as sentence tokenization, tokenization, POS tagging, and NLTK. NER (pre-trained models) can be used to extract all NERs."
   ]
  },
  {
   "cell_type": "code",
   "execution_count": 1,
   "metadata": {},
   "outputs": [],
   "source": [
    "import nltk"
   ]
  },
  {
   "cell_type": "code",
   "execution_count": 27,
   "metadata": {},
   "outputs": [],
   "source": [
    "text = \"In October 1988, Bill Denbrough gives his six-year-old brother, Georgie, a paper sailboat.\"\\\n",
    "        \" Georgie sails the boat along the rainy streets of small town Derry, and is disappointed when it falls down a storm drain.\"\\\n",
    "        \" As he attempts to retrieve it, Georgie sees a clown in the sewer, who introduces himself as Pennywise.\"\\\n",
    "        \" The clown entices Georgie to come closer, then severs his arm and drags him into the sewer.\"\\\n",
    "        \" The following summer, Bill and his friends - Richie Tozier, Eddie Kaspbrak, and Stan Uris - run afoul of older bully Henry Bowers and his gang.\"\\\n",
    "        \" Bill, still haunted by Georgie's disappearance and the resulting neglect from his grief-stricken parents, discovers that his brother's body may have washed up in a marshy wasteland called the Barrens.\"\\\n",
    "        \" He recruits his friends to investigate, believing his brother may still be alive.\"\\\n",
    "        \" Ben Hanscom learns that the town has been plagued by unexplained tragedies and child disappearances for centuries.\"\\\n",
    "        \" He is targeted by Bowers' gang, after which he flees into the Barrens and meets Bill's group.\"\\\n",
    "        \" They find the sneaker of a missing girl, while a member of the pursuing Bowers Gang, Patrick Hockstetter, is killed by Pennywise while searching the sewers for Ben.\"\\\n",
    "        \" The film was produced by Universal Studios Inc and supported by the BBC in London.\""
   ]
  },
  {
   "cell_type": "code",
   "execution_count": 28,
   "metadata": {},
   "outputs": [
    {
     "name": "stdout",
     "output_type": "stream",
     "text": [
      "(S\n",
      "  They/PRP\n",
      "  find/VBP\n",
      "  the/DT\n",
      "  sneaker/NN\n",
      "  of/IN\n",
      "  a/DT\n",
      "  missing/VBG\n",
      "  girl/NN\n",
      "  ,/,\n",
      "  while/IN\n",
      "  a/DT\n",
      "  member/NN\n",
      "  of/IN\n",
      "  the/DT\n",
      "  pursuing/VBG\n",
      "  (ORGANIZATION Bowers/NNP Gang/NNP)\n",
      "  ,/,\n",
      "  (PERSON Patrick/NNP Hockstetter/NNP)\n",
      "  ,/,\n",
      "  is/VBZ\n",
      "  killed/VBN\n",
      "  by/IN\n",
      "  (PERSON Pennywise/NNP)\n",
      "  while/IN\n",
      "  searching/VBG\n",
      "  the/DT\n",
      "  sewers/NNS\n",
      "  for/IN\n",
      "  (PERSON Ben/NNP)\n",
      "  ./.)\n",
      "(S\n",
      "  The/DT\n",
      "  film/NN\n",
      "  was/VBD\n",
      "  produced/VBN\n",
      "  by/IN\n",
      "  (ORGANIZATION Universal/NNP Studios/NNP Inc/NNP)\n",
      "  and/CC\n",
      "  supported/VBN\n",
      "  by/IN\n",
      "  the/DT\n",
      "  (ORGANIZATION BBC/NNP)\n",
      "  in/IN\n",
      "  (GPE London/NNP)\n",
      "  ./.)\n"
     ]
    }
   ],
   "source": [
    "sentences = nltk.sent_tokenize(text)\n",
    "tokenized_sentences = [nltk.word_tokenize(sentence) for sentence in sentences]\n",
    "tagged_sentences = [nltk.pos_tag(sentence) for sentence in tokenized_sentences]\n",
    "\n",
    "for sent in tagged_sentences[-2:]:\n",
    "    s = nltk.ne_chunk(sent)\n",
    "    print(s)"
   ]
  },
  {
   "cell_type": "markdown",
   "metadata": {},
   "source": [
    "# Relation extraction\n",
    "\n",
    "Relation extraction is another commonly used information extraction operation. Relation extraction as it sound is the process of extracting the different relationships between different entities. There are variety of the relationship that exist between the entities. We have seen relationship like inheritance/synonymous/analogous. The definition of the relation can be dependent on the Information need. For example in the case where we want to look from unstructured text data who is the writer of which book then authorship could be a relation between the author name and book name. With NLTK the idea is to use the same IE pipeline that we used till NER and extend it with a relation pattern based on the NER tags.\n",
    "\n",
    "So, in the following code, we used an inbuilt corpus of ieer, where the sentences are tagged till NER and the only thing we need to specify is the relation pattern we want and the kind of NER we want the relation to define. In the following code, a relationship between an organization and a location has been defined and we want to extract all the combinations of these patterns. This can be applied in various ways, for example, in a large corpus of unstructured text, we will be able to identify some of the organizations of our interest with their corresponding location:"
   ]
  },
  {
   "cell_type": "code",
   "execution_count": 8,
   "metadata": {},
   "outputs": [
    {
     "name": "stdout",
     "output_type": "stream",
     "text": [
      "[ORG: 'WHYY'] 'in' [LOC: 'Philadelphia']\n",
      "[ORG: 'McGlashan &AMP; Sarrail'] 'firm in' [LOC: 'San Mateo']\n",
      "[ORG: 'Freedom Forum'] 'in' [LOC: 'Arlington']\n",
      "[ORG: 'Brookings Institution'] ', the research group in' [LOC: 'Washington']\n",
      "[ORG: 'Idealab'] ', a self-described business incubator based in' [LOC: 'Los Angeles']\n",
      "[ORG: 'Open Text'] ', based in' [LOC: 'Waterloo']\n",
      "[ORG: 'WGBH'] 'in' [LOC: 'Boston']\n",
      "[ORG: 'Bastille Opera'] 'in' [LOC: 'Paris']\n",
      "[ORG: 'Omnicom'] 'in' [LOC: 'New York']\n",
      "[ORG: 'DDB Needham'] 'in' [LOC: 'New York']\n",
      "[ORG: 'Kaplan Thaler Group'] 'in' [LOC: 'New York']\n",
      "[ORG: 'BBDO South'] 'in' [LOC: 'Atlanta']\n",
      "[ORG: 'Georgia-Pacific'] 'in' [LOC: 'Atlanta']\n"
     ]
    }
   ],
   "source": [
    "import re\n",
    "IN = re.compile(r'.*\\bin\\b(?!\\b.+ing)')\n",
    "for doc in nltk.corpus.ieer.parsed_docs('NYT_19980315'):\n",
    "    for rel in nltk.sem.extract_rels('ORG', 'LOC', doc, corpus='ieer', pattern = IN):\n",
    "        print(nltk.sem.rtuple(rel))"
   ]
  },
  {
   "cell_type": "code",
   "execution_count": null,
   "metadata": {},
   "outputs": [],
   "source": []
  }
 ],
 "metadata": {
  "kernelspec": {
   "display_name": "py37",
   "language": "python",
   "name": "py37"
  },
  "language_info": {
   "codemirror_mode": {
    "name": "ipython",
    "version": 3
   },
   "file_extension": ".py",
   "mimetype": "text/x-python",
   "name": "python",
   "nbconvert_exporter": "python",
   "pygments_lexer": "ipython3",
   "version": "3.7.12"
  }
 },
 "nbformat": 4,
 "nbformat_minor": 4
}
