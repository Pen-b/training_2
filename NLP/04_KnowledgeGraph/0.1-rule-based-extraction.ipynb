{
 "cells": [
  {
   "cell_type": "markdown",
   "metadata": {
    "_uuid": "6b9c1dde0b2464ff6778d75d84efd3ba2ef21848"
   },
   "source": [
    "# Rule Based Relation-Extraction"
   ]
  },
  {
   "cell_type": "code",
   "execution_count": 1,
   "metadata": {
    "_uuid": "85600930b325b2bc99c604b7535cf298e475c247"
   },
   "outputs": [],
   "source": [
    "import os\n",
    "import pandas as pd\n",
    "import re\n",
    "import spacy \n",
    "from spacy import displacy\n",
    "\n",
    "# Load the en_core_web_sm model\n",
    "nlp = spacy.load(\"en_core_web_lg\")"
   ]
  },
  {
   "cell_type": "markdown",
   "metadata": {},
   "source": [
    "```\n",
    "# https://stackoverflow.com/a/47784683\n",
    "from dataclasses import dataclass\n",
    "\n",
    "@dataclass(eq=True)\n",
    "class Relation:\n",
    "    subj: str\n",
    "    rel: str\n",
    "    obj: str\n",
    "    type: str\n",
    "Relation('ben','is','here','DIRECT')\n",
    "```"
   ]
  },
  {
   "cell_type": "markdown",
   "metadata": {},
   "source": [
    "## Dataset"
   ]
  },
  {
   "cell_type": "code",
   "execution_count": 2,
   "metadata": {},
   "outputs": [],
   "source": [
    "texts =  [\n",
    "    # https://www.bbc.co.uk/news/world-us-canada-60177979\n",
    "    (\n",
    "        \"The US East Coast is hunkering down as a major blizzard hits the region for the first time in four years.\"\n",
    "        \"The storm is forecast to stretch from the Carolinas to Maine, packing hurricane-force winds in coastal parts.\"\n",
    "        \"Five states have declared emergencies.\"\n",
    "        \"Mayor Michelle Wu of Boston, a city that is no stranger to snowfall, said the storm could be 'historic'.\"\n",
    "        \"More than two feet of snow could fall in New England.\"\n",
    "        \"Weather officials also warn of flooding near the coast.\"\n",
    "        \"Over 5,000 US flights were cancelled between Friday and Sunday, according to FlightAware.\"\n",
    "        \"Forecasters say there is a chance the storm, known as a Nor\\'easter, will blanket the Boston area with up to 2ft (61cm) of snow.\"\n",
    "        ),\n",
    "    # https://www.bbc.co.uk/news/business-60163814\n",
    "    (  \n",
    "        \"Apple sales soared in the key Christmas shopping season, despite constraints due to a global shortage of microchips.\"\n",
    "        \"Sales at the iPhone giant rose 11% to a record $123.9bn (£92.6bn) in the October to December period, beating forecasts.\"\n",
    "        \"Shares jumped more than 4% in after-hours trade, as the report suggested the firm's pandemic boom is continuing.\"\n",
    "        \"Apple has seen purchases skyrocket during the pandemic as people spend more time online.\"\n",
    "        \"The firm's market value briefly hit the $3tn milestone in early January though its share price has slipped more recently amid weeks of market turmoil.\"\n",
    "        ),\n",
    "    # https://news.sky.com/story/staycation-frenzy-spurs-center-parcs-owner-to-prepare-4bn-sale-12527982\n",
    "    (\n",
    "        \"Sky News has learnt that Brookfield Property Partners, the Canadian property giant, is paving the way to sell Center Parcs UK potentially as soon as this year.\"\n",
    "        \"City sources said this weekend that Brookfield had engaged the accountancy firm PriceWaterhouseCoopers to assist with preparations for a sale process.\"\n",
    "        \"Investment banks have yet to be formally appointed to handle an auction, and one person close to the process said it was possible that Brookfield would decide to retain the business for a longer period if it did not secure a sufficiently attractive offer.\"\n",
    "        \"Center Parcs is one of the most famous brands in the British leisure industry, drawing millions of visitors annually to its five UK sites and the latest addition to its portfolio, at Longford Forest in Ireland.\"\n",
    "    )\n",
    "]"
   ]
  },
  {
   "cell_type": "markdown",
   "metadata": {
    "_uuid": "2099872afd539fa28784a066f2ce0c06c42a2585"
   },
   "source": [
    "##  Part-Of-Speech (POS) tags\n",
    "\n",
    "In linguistics and grammar, A part of speech or part-of-speech (POS) is the category of a word that have similar grammatical properties. \n",
    "For instance \"nouns\" are words for real things like people, places and objects. Words that describe nouns are called \"adjectives\" such as: tall, smart, large. \n",
    "\n",
    "Applications in Natural Language Processing (NLP) apply linguistic rules and machine learning models to predict and assign which POS tags apply by evaluating word position and context. Popular NLP packages such as NLTK and spaCy include this functionality OOTB. To read more about POS, see this [POS summary](https://towardsdatascience.com/part-of-speech-tagging-for-beginners-3a0754b2ebba), the spaCy [documentation](https://spacy.io/usage/linguistic-features#pos-tagging) and [SO explanation](https://stackoverflow.com/questions/40288323/what-do-spacys-part-of-speech-and-dependency-tags-mean), and this [POS tag reference list](https://sites.google.com/site/partofspeechhelp/#TOC-Welcome).\n",
    "\n",
    "We can build a basic relation-extraction process by using grammar patterns / part of speech patterns to identify related nouns within a text. A simple rule might be:\n",
    "\n",
    "```\n",
    "Proper Noun - Verb - Proper Noun\n",
    "```\n",
    "\n",
    "Using spaCy, we can now iterate over each sentence and identify where this POS pattern occurs."
   ]
  },
  {
   "cell_type": "code",
   "execution_count": 3,
   "metadata": {
    "_uuid": "fd80efd1e651449ee42847f5859feadea27a15ee",
    "tags": []
   },
   "outputs": [
    {
     "name": "stdout",
     "output_type": "stream",
     "text": [
      "[US, hunkering, blizzard] \n",
      " US (NNP|compound) East (NNP|compound) Coast (NNP|nsubj) is (VBZ|aux) hunkering (VBG|ROOT) down (RP|prt) as (IN|mark) a (DT|det) major (JJ|amod) blizzard (NN|nsubj) \n",
      "\n",
      "[East, hunkering, blizzard] \n",
      " East (NNP|compound) Coast (NNP|nsubj) is (VBZ|aux) hunkering (VBG|ROOT) down (RP|prt) as (IN|mark) a (DT|det) major (JJ|amod) blizzard (NN|nsubj) \n",
      "\n",
      "[Coast, hunkering, blizzard] \n",
      " Coast (NNP|nsubj) is (VBZ|aux) hunkering (VBG|ROOT) down (RP|prt) as (IN|mark) a (DT|det) major (JJ|amod) blizzard (NN|nsubj) \n",
      "\n",
      "[Apple, soared, Christmas] \n",
      " Apple (NN|compound) sales (NNS|nsubj) soared (VBD|ROOT) in (IN|prep) the (DT|det) key (JJ|amod) Christmas (NNP|compound) \n",
      "\n",
      "[sales, soared, Christmas] \n",
      " sales (NNS|nsubj) soared (VBD|ROOT) in (IN|prep) the (DT|det) key (JJ|amod) Christmas (NNP|compound) \n",
      "\n",
      "[Sky, learnt, Brookfield] \n",
      " Sky (NNP|compound) News (NNP|nsubj) has (VBZ|aux) learnt (VBN|ROOT) that (IN|mark) Brookfield (NNP|compound) \n",
      "\n",
      "[News, learnt, Brookfield] \n",
      " News (NNP|nsubj) has (VBZ|aux) learnt (VBN|ROOT) that (IN|mark) Brookfield (NNP|compound) \n",
      "\n"
     ]
    }
   ],
   "source": [
    "nouns = ['NNP','NN','NNS']\n",
    "verbs = [\"VBZ\",\"VB\",\"VBG\"]\n",
    "relations = list()\n",
    "\n",
    "for text in texts:\n",
    "    doc = nlp(text)\n",
    "    for e,sent in enumerate(doc.sents):\n",
    "        chain = list()\n",
    "        for a in sent:\n",
    "            if a.tag_ in nouns: # find first NOUND\n",
    "                chain.append(a)\n",
    "                for b in sent[a.i:]: # find ROOT, alternatively VERBS\n",
    "                    if (b.dep_ == 'ROOT') and len(chain) == 1:\n",
    "                        chain.append(b)\n",
    "                        for c in sent[b.i:]: # find second NOUN\n",
    "                            if c.tag_ in nouns and len(chain) == 2: \n",
    "                                chain.append(c)\n",
    "                                \n",
    "                                # reset chain and print result\n",
    "                                relations.append(chain)\n",
    "                                pos_chain = ' '.join([f\"{i} ({i.tag_}|{i.dep_})\" for i in sent[a.i:c.i+1]])\n",
    "                                print(chain,'\\n',pos_chain,'\\n')\n",
    "                                chain = list()"
   ]
  },
  {
   "cell_type": "markdown",
   "metadata": {},
   "source": [
    "So, this simple approach seems OK at finding sentences that contain related entities.\n",
    "\n",
    "- US --- **hunkering** ---> Blizzard\n",
    "- Sales --- **soared** ---> Christmas\n",
    "- Sky --- **learnt** ---> Brookfield"
   ]
  },
  {
   "cell_type": "markdown",
   "metadata": {},
   "source": [
    "## Relation Extraction\n",
    "\n",
    "The problem with the above approach is that it relies on an extensive list of *Part-Of-Speech* tag patterns. This won't scale for most problems as nouns and verbs come in a wide variety of forms and with modifiers etc. For instance, you generally want to capture compound term phrases and patterns such as:\n",
    "```\n",
    "Metro-North worker = NNP-HYPH-NNP\n",
    "Killed by = VBZ-IN\n",
    "```\n",
    "\n",
    "To improve our method we can:\n",
    " 1. Better capture and relfect things and objects - collectively named \"entities\".\n",
    "     \n",
    " \n",
    " 1. Develop POS patterns and rules to identify and extract relations between two or more entities. \n",
    "\n",
    " 1. Train a probabilistic model to identify relation triplets such as [Stanford, OLLIE - see reddit]\n",
    " \n",
    "### Capture entities\n",
    "\n",
    "A spacy pipeline with components for Named Entity Recognition (NER) and Noun Chunks is used to capture entities. Here, we could define some sensible rules or limit the number and type of entities to control what information will be represented in our knowledge graph."
   ]
  },
  {
   "cell_type": "code",
   "execution_count": 4,
   "metadata": {},
   "outputs": [
    {
     "name": "stdout",
     "output_type": "stream",
     "text": [
      "['tagger', 'parser', 'ner', 'merge_entities', 'merge_noun_chunks']\n",
      "\n",
      " Sky News (NNP|nsubj) has (VBZ|aux) learnt (VBN|ROOT) that (IN|mark) Brookfield Property Partners (NNPS|nsubj) , (,|punct) the Canadian property giant (NN|appos) , (,|punct) is (VBZ|aux) paving (VBG|ccomp) the way (NN|dobj) to (TO|aux) sell (VB|relcl) Center Parcs UK (NNP|dobj) potentially (RB|advmod) as (RB|advmod) soon (RB|advmod) as (IN|prep) this year (NN|pobj) . (.|punct) City sources (NNS|nsubj) said (VBD|ROOT) this weekend (NN|npadvmod) that (IN|mark) Brookfield (NNP|nsubj) had (VBD|aux) engaged (VBN|ccomp) the accountancy firm PriceWaterhouseCoopers (NNS|dobj) to (TO|aux) assist (VB|xcomp) with (IN|prep) preparations (NNS|pobj) for (IN|prep) a sale process (NN|pobj) . (.|punct) Investment banks (NNS|nsubj) have (VBP|ROOT) yet (RB|advmod) to (TO|aux) be (VB|auxpass) formally (RB|advmod) appointed (VBN|xcomp) to (TO|aux) handle (VB|xcomp) an auction (NN|dobj) , (,|punct) and (CC|cc) one person (NN|nsubj) close (JJ|amod) to (IN|prep) the process (NN|pobj) said (VBD|conj) it (PRP|nsubj) was (VBD|ccomp) possible (JJ|acomp) that (IN|mark) Brookfield (NNP|nsubj) would (MD|aux) decide (VB|ccomp) to (TO|aux) retain (VB|xcomp) the business (NN|dobj) for (IN|prep) a longer period (NN|pobj) if (IN|mark) it (PRP|nsubj) did (VBD|aux) not (RB|neg) secure (VB|advcl) a sufficiently attractive offer (NN|dobj) . (.|punct) Center Parcs (NNP|nsubj) is (VBZ|ROOT) one (CD|attr) of (IN|prep) the most famous brands (NNS|pobj) in (IN|prep) the British leisure industry (NN|pobj) , (,|punct) drawing (VBG|advcl) millions (NNS|dobj) of (IN|prep) visitors (NNS|pobj) annually (RB|advmod) to (IN|prep) its five UK sites (NNS|pobj) and (CC|cc) the (DT|det) latest (JJS|amod) addition (NN|conj) to (IN|prep) its portfolio (NN|pobj) , (,|punct) at (IN|prep) Longford Forest (NNP|pobj) in (IN|prep) Ireland (NNP|pobj) . (.|punct) \n",
      "\n"
     ]
    },
    {
     "data": {
      "text/html": [
       "<div class=\"entities\" style=\"line-height: 2.5; direction: ltr\">\n",
       "<mark class=\"entity\" style=\"background: #7aecec; padding: 0.45em 0.6em; margin: 0 0.25em; line-height: 1; border-radius: 0.35em; box-decoration-break: clone; -webkit-box-decoration-break: clone\">\n",
       "    Sky News\n",
       "    <span style=\"font-size: 0.8em; font-weight: bold; line-height: 1; border-radius: 0.35em; text-transform: uppercase; vertical-align: middle; margin-left: 0.5rem\">ORG</span>\n",
       "</mark>\n",
       " has learnt that \n",
       "<mark class=\"entity\" style=\"background: #7aecec; padding: 0.45em 0.6em; margin: 0 0.25em; line-height: 1; border-radius: 0.35em; box-decoration-break: clone; -webkit-box-decoration-break: clone\">\n",
       "    Brookfield Property Partners\n",
       "    <span style=\"font-size: 0.8em; font-weight: bold; line-height: 1; border-radius: 0.35em; text-transform: uppercase; vertical-align: middle; margin-left: 0.5rem\">ORG</span>\n",
       "</mark>\n",
       ", the Canadian property giant, is paving the way to sell \n",
       "<mark class=\"entity\" style=\"background: #7aecec; padding: 0.45em 0.6em; margin: 0 0.25em; line-height: 1; border-radius: 0.35em; box-decoration-break: clone; -webkit-box-decoration-break: clone\">\n",
       "    Center Parcs UK\n",
       "    <span style=\"font-size: 0.8em; font-weight: bold; line-height: 1; border-radius: 0.35em; text-transform: uppercase; vertical-align: middle; margin-left: 0.5rem\">ORG</span>\n",
       "</mark>\n",
       " potentially as soon as \n",
       "<mark class=\"entity\" style=\"background: #bfe1d9; padding: 0.45em 0.6em; margin: 0 0.25em; line-height: 1; border-radius: 0.35em; box-decoration-break: clone; -webkit-box-decoration-break: clone\">\n",
       "    this year\n",
       "    <span style=\"font-size: 0.8em; font-weight: bold; line-height: 1; border-radius: 0.35em; text-transform: uppercase; vertical-align: middle; margin-left: 0.5rem\">DATE</span>\n",
       "</mark>\n",
       ".City sources said \n",
       "<mark class=\"entity\" style=\"background: #bfe1d9; padding: 0.45em 0.6em; margin: 0 0.25em; line-height: 1; border-radius: 0.35em; box-decoration-break: clone; -webkit-box-decoration-break: clone\">\n",
       "    this weekend\n",
       "    <span style=\"font-size: 0.8em; font-weight: bold; line-height: 1; border-radius: 0.35em; text-transform: uppercase; vertical-align: middle; margin-left: 0.5rem\">DATE</span>\n",
       "</mark>\n",
       " that \n",
       "<mark class=\"entity\" style=\"background: #feca74; padding: 0.45em 0.6em; margin: 0 0.25em; line-height: 1; border-radius: 0.35em; box-decoration-break: clone; -webkit-box-decoration-break: clone\">\n",
       "    Brookfield\n",
       "    <span style=\"font-size: 0.8em; font-weight: bold; line-height: 1; border-radius: 0.35em; text-transform: uppercase; vertical-align: middle; margin-left: 0.5rem\">GPE</span>\n",
       "</mark>\n",
       " had engaged the accountancy firm PriceWaterhouseCoopers to assist with preparations for a sale process.Investment banks have yet to be formally appointed to handle an auction, and \n",
       "<mark class=\"entity\" style=\"background: #e4e7d2; padding: 0.45em 0.6em; margin: 0 0.25em; line-height: 1; border-radius: 0.35em; box-decoration-break: clone; -webkit-box-decoration-break: clone\">\n",
       "    one person\n",
       "    <span style=\"font-size: 0.8em; font-weight: bold; line-height: 1; border-radius: 0.35em; text-transform: uppercase; vertical-align: middle; margin-left: 0.5rem\">CARDINAL</span>\n",
       "</mark>\n",
       " close to the process said it was possible that \n",
       "<mark class=\"entity\" style=\"background: #feca74; padding: 0.45em 0.6em; margin: 0 0.25em; line-height: 1; border-radius: 0.35em; box-decoration-break: clone; -webkit-box-decoration-break: clone\">\n",
       "    Brookfield\n",
       "    <span style=\"font-size: 0.8em; font-weight: bold; line-height: 1; border-radius: 0.35em; text-transform: uppercase; vertical-align: middle; margin-left: 0.5rem\">GPE</span>\n",
       "</mark>\n",
       " would decide to retain the business for a longer period if it did not secure a sufficiently attractive offer.\n",
       "<mark class=\"entity\" style=\"background: #7aecec; padding: 0.45em 0.6em; margin: 0 0.25em; line-height: 1; border-radius: 0.35em; box-decoration-break: clone; -webkit-box-decoration-break: clone\">\n",
       "    Center Parcs\n",
       "    <span style=\"font-size: 0.8em; font-weight: bold; line-height: 1; border-radius: 0.35em; text-transform: uppercase; vertical-align: middle; margin-left: 0.5rem\">ORG</span>\n",
       "</mark>\n",
       " is \n",
       "<mark class=\"entity\" style=\"background: #e4e7d2; padding: 0.45em 0.6em; margin: 0 0.25em; line-height: 1; border-radius: 0.35em; box-decoration-break: clone; -webkit-box-decoration-break: clone\">\n",
       "    one\n",
       "    <span style=\"font-size: 0.8em; font-weight: bold; line-height: 1; border-radius: 0.35em; text-transform: uppercase; vertical-align: middle; margin-left: 0.5rem\">CARDINAL</span>\n",
       "</mark>\n",
       " of the most famous brands in the British leisure industry, drawing \n",
       "<mark class=\"entity\" style=\"background: #e4e7d2; padding: 0.45em 0.6em; margin: 0 0.25em; line-height: 1; border-radius: 0.35em; box-decoration-break: clone; -webkit-box-decoration-break: clone\">\n",
       "    millions\n",
       "    <span style=\"font-size: 0.8em; font-weight: bold; line-height: 1; border-radius: 0.35em; text-transform: uppercase; vertical-align: middle; margin-left: 0.5rem\">CARDINAL</span>\n",
       "</mark>\n",
       " of visitors \n",
       "<mark class=\"entity\" style=\"background: #bfe1d9; padding: 0.45em 0.6em; margin: 0 0.25em; line-height: 1; border-radius: 0.35em; box-decoration-break: clone; -webkit-box-decoration-break: clone\">\n",
       "    annually\n",
       "    <span style=\"font-size: 0.8em; font-weight: bold; line-height: 1; border-radius: 0.35em; text-transform: uppercase; vertical-align: middle; margin-left: 0.5rem\">DATE</span>\n",
       "</mark>\n",
       " to its five UK sites and the latest addition to its portfolio, at \n",
       "<mark class=\"entity\" style=\"background: #7aecec; padding: 0.45em 0.6em; margin: 0 0.25em; line-height: 1; border-radius: 0.35em; box-decoration-break: clone; -webkit-box-decoration-break: clone\">\n",
       "    Longford Forest\n",
       "    <span style=\"font-size: 0.8em; font-weight: bold; line-height: 1; border-radius: 0.35em; text-transform: uppercase; vertical-align: middle; margin-left: 0.5rem\">ORG</span>\n",
       "</mark>\n",
       " in \n",
       "<mark class=\"entity\" style=\"background: #feca74; padding: 0.45em 0.6em; margin: 0 0.25em; line-height: 1; border-radius: 0.35em; box-decoration-break: clone; -webkit-box-decoration-break: clone\">\n",
       "    Ireland\n",
       "    <span style=\"font-size: 0.8em; font-weight: bold; line-height: 1; border-radius: 0.35em; text-transform: uppercase; vertical-align: middle; margin-left: 0.5rem\">GPE</span>\n",
       "</mark>\n",
       ".</div>"
      ],
      "text/plain": [
       "<IPython.core.display.HTML object>"
      ]
     },
     "metadata": {},
     "output_type": "display_data"
    },
    {
     "name": "stdout",
     "output_type": "stream",
     "text": [
      "Entities:\n",
      "\t Sky News ORG\n",
      "\t Brookfield Property Partners ORG\n",
      "\t Center Parcs UK ORG\n",
      "\t this year DATE\n",
      "\t this weekend DATE\n",
      "\t Brookfield GPE\n",
      "\t one person CARDINAL\n",
      "\t Brookfield GPE\n",
      "\t Center Parcs ORG\n",
      "\t one CARDINAL\n",
      "\t millions CARDINAL\n",
      "\t annually DATE\n",
      "\t Longford Forest ORG\n",
      "\t Ireland GPE\n",
      "Noun chunks:\n",
      "\t Sky News\n",
      "\t Brookfield Property Partners\n",
      "\t the Canadian property giant\n",
      "\t the way\n",
      "\t Center Parcs UK\n",
      "\t this year\n",
      "\t City sources\n",
      "\t Brookfield\n",
      "\t the accountancy firm PriceWaterhouseCoopers\n",
      "\t preparations\n",
      "\t a sale process\n",
      "\t Investment banks\n",
      "\t an auction\n",
      "\t one person\n",
      "\t the process\n",
      "\t it\n",
      "\t Brookfield\n",
      "\t the business\n",
      "\t a longer period\n",
      "\t it\n",
      "\t a sufficiently attractive offer\n",
      "\t Center Parcs\n",
      "\t the most famous brands\n",
      "\t the British leisure industry\n",
      "\t millions\n",
      "\t visitors\n",
      "\t its five UK sites\n",
      "\t its portfolio\n",
      "\t Longford Forest\n",
      "\t Ireland\n"
     ]
    }
   ],
   "source": [
    "try:\n",
    "    nlp.add_pipe(nlp.create_pipe(\"merge_entities\"))\n",
    "    nlp.add_pipe(nlp.create_pipe(\"merge_noun_chunks\"))\n",
    "    print(nlp.pipe_names)\n",
    "except:\n",
    "    print(nlp.pipe_names)\n",
    "\n",
    "\n",
    "doc = nlp(texts[2])\n",
    "print('\\n', ' '.join([f\"{d} ({d.tag_}|{d.dep_})\" for d in doc]),'\\n')\n",
    "spacy.displacy.render(doc, style='ent')\n",
    "\n",
    "print('Entities:')\n",
    "for t in doc:\n",
    "    if t.ent_type_ != '': print('\\t',t,t.ent_type_)\n",
    "\n",
    "print('Noun chunks:')\n",
    "for chunk in doc.noun_chunks:\n",
    "    print('\\t',chunk.text, )\n",
    "    #chunk.root.text, chunk.root.dep_,chunk.root.head.text)"
   ]
  },
  {
   "cell_type": "markdown",
   "metadata": {},
   "source": [
    "### Capture relations\n",
    "\n",
    "For each sentence, relations can be extracted by iterating through the entity pairs and noun chunks, and yielding the ROOT VERB and other VERB terms. Spacy's dependency parser operates on each sentence in isolation and so it is not possible to extract relations across sentences with this approach."
   ]
  },
  {
   "cell_type": "code",
   "execution_count": 5,
   "metadata": {},
   "outputs": [],
   "source": [
    "def get_entities(span,ent_types=None,noun_chunks=False):\n",
    "    entities = dict()\n",
    "    if ent_types is None:\n",
    "        ent_types = ['ORG','PERSON','GPE','NORP','LOC','PRODUCT']\n",
    "        \n",
    "    if noun_chunks:\n",
    "        entities.update({int(f\"{i.start}{i.end}\"): {\"span\":i, \"type\":\"NOUN_CHUNK\"} for i in span.noun_chunks})\n",
    "        \n",
    "    entities.update({int(f\"{i.start}{i.end}\"): {\"span\":i, \"type\":i.label_} for i in span.ents if i.label_ in ent_types})\n",
    "    keys = sorted(entities)\n",
    "    return entities, keys"
   ]
  },
  {
   "cell_type": "code",
   "execution_count": 6,
   "metadata": {},
   "outputs": [
    {
     "name": "stdout",
     "output_type": "stream",
     "text": [
      "\n",
      " Sky News (NNP|nsubj) has (VBZ|aux) learnt (VBN|ROOT) that (IN|mark) Brookfield Property Partners (NNPS|nsubj) , (,|punct) the Canadian property giant (NN|appos) , (,|punct) is (VBZ|aux) paving (VBG|ccomp) the way (NN|dobj) to (TO|aux) sell (VB|relcl) Center Parcs UK (NNP|dobj) potentially (RB|advmod) as (RB|advmod) soon (RB|advmod) as (IN|prep) this year (NN|pobj) . (.|punct)\n",
      "\t>>>\t Sky News - has(VBZ|aux) - Brookfield Property Partners\n",
      "\t>>>\t Sky News - learnt(VBN|ROOT) - Brookfield Property Partners\n",
      "\t>>>\t Brookfield Property Partners - is(VBZ|aux) - Center Parcs UK\n",
      "\t>>>\t Brookfield Property Partners - paving(VBG|ccomp) - Center Parcs UK\n",
      "\t>>>\t Brookfield Property Partners - sell(VB|relcl) - Center Parcs UK\n",
      "\n",
      " Center Parcs (NNP|nsubj) is (VBZ|ROOT) one (CD|attr) of (IN|prep) the most famous brands (NNS|pobj) in (IN|prep) the British leisure industry (NN|pobj) , (,|punct) drawing (VBG|advcl) millions (NNS|dobj) of (IN|prep) visitors (NNS|pobj) annually (RB|advmod) to (IN|prep) its five UK sites (NNS|pobj) and (CC|cc) the (DT|det) latest (JJS|amod) addition (NN|conj) to (IN|prep) its portfolio (NN|pobj) , (,|punct) at (IN|prep) Longford Forest (NNP|pobj) in (IN|prep) Ireland (NNP|pobj) . (.|punct)\n",
      "\t>>>\t Center Parcs - is(VBZ|ROOT) - Longford Forest\n",
      "\t>>>\t Center Parcs - drawing(VBG|advcl) - Longford Forest\n"
     ]
    }
   ],
   "source": [
    "for sent in doc.sents: \n",
    "    s_term_pos = \" \".join([f\"{t} ({t.tag_}|{t.dep_})\" for t in sent])\n",
    "    entities, keys = get_entities(sent)\n",
    "\n",
    "    if len(keys) > 1:\n",
    "        pairs = [(x,y) for x,y in zip(keys,keys[1:])]\n",
    "        print('\\n',s_term_pos)\n",
    "        # print(keys,pairs)\n",
    "        for p in pairs:\n",
    "            start,end = entities[p[0]], entities[p[1]]\n",
    "            for w in doc[start['span'].start:end['span'].end]:\n",
    "                if w.tag_ in ['VBZ','VBN','VBG','VBD','VB']:\n",
    "                    print(f\"\\t>>>\\t\",f\"{start['span']} - {w}({w.tag_}|{w.dep_}) - {end['span']}\")"
   ]
  },
  {
   "cell_type": "code",
   "execution_count": 7,
   "metadata": {},
   "outputs": [],
   "source": [
    "# spacy.displacy.render(doc, style='ent')\n",
    "# spacy.displacy.render(sent, style='dep',)\n",
    "# spacy.explain('attr')"
   ]
  },
  {
   "cell_type": "markdown",
   "metadata": {},
   "source": [
    "Better - but not great. There's a few additional rules we could add to expand and improve relationship capture. \n",
    "\n",
    "- capture direct ascendants and decedents https://spacy.io/usage/linguistic-features#navigating-around"
   ]
  },
  {
   "cell_type": "code",
   "execution_count": 95,
   "metadata": {},
   "outputs": [],
   "source": [
    "relations = list()"
   ]
  },
  {
   "cell_type": "code",
   "execution_count": 96,
   "metadata": {},
   "outputs": [],
   "source": [
    "def get_direct_relations(sent,entities):\n",
    "    ent_text = [v['span'].text for v in entities.values()]\n",
    "    relations = list()\n",
    "\n",
    "    for v in entities.values():\n",
    "        \n",
    "        if v['span'].n_lefts > 0:\n",
    "            lf = [i for i in v['span'].lefts if i.text in ent_text]\n",
    "            if len(lf) > 0: \n",
    "                relations.append((lf[0].text,'=IS',v['span'].text,'DIRECT'))\n",
    "        if v['span'].n_rights > 0:\n",
    "            rt = [i for i in v['span'].rights if i.text in ent_text]\n",
    "            if len(rt) > 0: \n",
    "                relations.append((v['span'].text,'=IS',rt[0].text,'DIRECT'))\n",
    "\n",
    "    if len(relations) > 0:\n",
    "        return relations\n",
    "    else:\n",
    "        return None"
   ]
  },
  {
   "cell_type": "code",
   "execution_count": 97,
   "metadata": {},
   "outputs": [
    {
     "name": "stdout",
     "output_type": "stream",
     "text": [
      "Sky News (NNP|nsubj) has (VBZ|aux) learnt (VBN|ROOT) that (IN|mark) Brookfield Property Partners (NNPS|nsubj) , (,|punct) the Canadian property giant (NN|appos) , (,|punct) is (VBZ|aux) paving (VBG|ccomp) the way (NN|dobj) to (TO|aux) sell (VB|relcl) Center Parcs UK (NNP|dobj) potentially (RB|advmod) as (RB|advmod) soon (RB|advmod) as (IN|prep) this year (NN|pobj) . (.|punct)\n",
      "\t ('Brookfield Property Partners', '=IS', 'the Canadian property giant', 'DIRECT')\n"
     ]
    }
   ],
   "source": [
    "for sent in list(doc.sents)[:]: \n",
    "    s_term_pos = \" \".join([f\"{t} ({t.tag_}|{t.dep_})\" for t in sent])\n",
    "    entities, keys = get_entities(sent, noun_chunks=True)\n",
    "    \n",
    "    sentence_relations = get_direct_relations(sent,entities)\n",
    "    if sentence_relations is not None:\n",
    "        relations+=sentence_relations\n",
    "        \n",
    "        print(s_term_pos)\n",
    "        for r in sentence_relations:\n",
    "            print('\\t',r)"
   ]
  },
  {
   "cell_type": "markdown",
   "metadata": {},
   "source": [
    "- get relationships between the subject and object term dependencies."
   ]
  },
  {
   "cell_type": "code",
   "execution_count": 98,
   "metadata": {},
   "outputs": [],
   "source": [
    "def get_ent_pos_relations(doc, sentence_entities):\n",
    "    \"\"\"\n",
    "    Entity to POS relations\n",
    "    \"\"\"\n",
    "    SUBJECTS = [\"nsubj\", \"nsubjpass\", \"csubj\", \"csubjpass\", \"agent\", \"expl\"]\n",
    "    OBJECTS = [\"pobj\",\"dobj\", \"dative\", \"attr\", \"oprd\"]\n",
    "    SUB_OBJ = SUBJECTS+OBJECTS\n",
    "    \n",
    "    feature = [  \"ROOT\",\n",
    "                 \"aux\",\"relcl\",\n",
    "                 \"acomp\", \"advcl\", \"advmod\", \"amod\", \"appos\", \"nn\", \"nmod\", \"ccomp\", \"complm\",\n",
    "                 \"hmod\", \"infmod\", \"xcomp\", \"rcmod\", \"poss\",\" possessive\",\n",
    "                 \"compound\",\n",
    "                 \"prep\"]\n",
    "\n",
    "    relations = list()\n",
    "    for e in sentence_entities.values():\n",
    "        prev = list()\n",
    "        for t in doc[e['span'].end:sent.end]:\n",
    "            if t.dep_ in ['pobj','nsubj','dojb']: \n",
    "                terms = doc[e['span'].end:t.i]\n",
    "                rels = [t for t in terms if t.dep_ in feature if t.idx not in prev]\n",
    "                prev.extend([x.idx for x in rels]) # previous terms\n",
    "                \n",
    "                if len(rels) > 0:\n",
    "                    rels = ' '.join([x.text for x in rels])\n",
    "                    relations.append((e['span'].text,rels,t.text,'ENT_POS'))\n",
    "    return relations"
   ]
  },
  {
   "cell_type": "code",
   "execution_count": 99,
   "metadata": {},
   "outputs": [
    {
     "name": "stdout",
     "output_type": "stream",
     "text": [
      "Sky News (NNP|nsubj) has (VBZ|aux) learnt (VBN|ROOT) that (IN|mark) Brookfield Property Partners (NNPS|nsubj) , (,|punct) the Canadian property giant (NN|appos) , (,|punct) is (VBZ|aux) paving (VBG|ccomp) the way (NN|dobj) to (TO|aux) sell (VB|relcl) Center Parcs UK (NNP|dobj) potentially (RB|advmod) as (RB|advmod) soon (RB|advmod) as (IN|prep) this year (NN|pobj) . (.|punct)\n",
      "\t ('Sky News', 'has learnt', 'Brookfield Property Partners', 'ENT_POS')\n",
      "\t ('Sky News', 'the Canadian property giant is paving to sell potentially as soon as', 'this year', 'ENT_POS')\n",
      "\t ('Brookfield Property Partners', 'the Canadian property giant is paving to sell potentially as soon as', 'this year', 'ENT_POS')\n",
      "\t ('the Canadian property giant', 'is paving to sell potentially as soon as', 'this year', 'ENT_POS')\n",
      "\t ('the way', 'to sell potentially as soon as', 'this year', 'ENT_POS')\n",
      "\t ('Center Parcs UK', 'potentially as soon as', 'this year', 'ENT_POS')\n",
      "City sources (NNS|nsubj) said (VBD|ROOT) this weekend (NN|npadvmod) that (IN|mark) Brookfield (NNP|nsubj) had (VBD|aux) engaged (VBN|ccomp) the accountancy firm PriceWaterhouseCoopers (NNS|dobj) to (TO|aux) assist (VB|xcomp) with (IN|prep) preparations (NNS|pobj) for (IN|prep) a sale process (NN|pobj) . (.|punct)\n",
      "\t ('City sources', 'said', 'Brookfield', 'ENT_POS')\n",
      "\t ('City sources', 'had engaged to assist with', 'preparations', 'ENT_POS')\n",
      "\t ('City sources', 'for', 'a sale process', 'ENT_POS')\n",
      "\t ('Brookfield', 'had engaged to assist with', 'preparations', 'ENT_POS')\n",
      "\t ('Brookfield', 'for', 'a sale process', 'ENT_POS')\n",
      "\t ('the accountancy firm PriceWaterhouseCoopers', 'to assist with', 'preparations', 'ENT_POS')\n",
      "\t ('the accountancy firm PriceWaterhouseCoopers', 'for', 'a sale process', 'ENT_POS')\n",
      "\t ('preparations', 'for', 'a sale process', 'ENT_POS')\n",
      "Investment banks (NNS|nsubj) have (VBP|ROOT) yet (RB|advmod) to (TO|aux) be (VB|auxpass) formally (RB|advmod) appointed (VBN|xcomp) to (TO|aux) handle (VB|xcomp) an auction (NN|dobj) , (,|punct) and (CC|cc) one person (NN|nsubj) close (JJ|amod) to (IN|prep) the process (NN|pobj) said (VBD|conj) it (PRP|nsubj) was (VBD|ccomp) possible (JJ|acomp) that (IN|mark) Brookfield (NNP|nsubj) would (MD|aux) decide (VB|ccomp) to (TO|aux) retain (VB|xcomp) the business (NN|dobj) for (IN|prep) a longer period (NN|pobj) if (IN|mark) it (PRP|nsubj) did (VBD|aux) not (RB|neg) secure (VB|advcl) a sufficiently attractive offer (NN|dobj) . (.|punct)\n",
      "\t ('Investment banks', 'have yet to formally appointed to handle', 'one person', 'ENT_POS')\n",
      "\t ('Investment banks', 'close to', 'the process', 'ENT_POS')\n",
      "\t ('Investment banks', 'was possible', 'Brookfield', 'ENT_POS')\n",
      "\t ('Investment banks', 'would decide to retain for', 'a longer period', 'ENT_POS')\n",
      "\t ('an auction', 'close to', 'the process', 'ENT_POS')\n",
      "\t ('an auction', 'was possible', 'Brookfield', 'ENT_POS')\n",
      "\t ('an auction', 'would decide to retain for', 'a longer period', 'ENT_POS')\n",
      "\t ('one person', 'close to', 'the process', 'ENT_POS')\n",
      "\t ('one person', 'was possible', 'Brookfield', 'ENT_POS')\n",
      "\t ('one person', 'would decide to retain for', 'a longer period', 'ENT_POS')\n",
      "\t ('the process', 'was possible', 'Brookfield', 'ENT_POS')\n",
      "\t ('the process', 'would decide to retain for', 'a longer period', 'ENT_POS')\n",
      "\t ('it', 'was possible', 'Brookfield', 'ENT_POS')\n",
      "\t ('it', 'would decide to retain for', 'a longer period', 'ENT_POS')\n",
      "\t ('Brookfield', 'would decide to retain for', 'a longer period', 'ENT_POS')\n",
      "\t ('the business', 'for', 'a longer period', 'ENT_POS')\n",
      "Center Parcs (NNP|nsubj) is (VBZ|ROOT) one (CD|attr) of (IN|prep) the most famous brands (NNS|pobj) in (IN|prep) the British leisure industry (NN|pobj) , (,|punct) drawing (VBG|advcl) millions (NNS|dobj) of (IN|prep) visitors (NNS|pobj) annually (RB|advmod) to (IN|prep) its five UK sites (NNS|pobj) and (CC|cc) the (DT|det) latest (JJS|amod) addition (NN|conj) to (IN|prep) its portfolio (NN|pobj) , (,|punct) at (IN|prep) Longford Forest (NNP|pobj) in (IN|prep) Ireland (NNP|pobj) . (.|punct)\n",
      "\t ('Center Parcs', 'is of', 'the most famous brands', 'ENT_POS')\n",
      "\t ('Center Parcs', 'in', 'the British leisure industry', 'ENT_POS')\n",
      "\t ('Center Parcs', 'drawing of', 'visitors', 'ENT_POS')\n",
      "\t ('Center Parcs', 'annually to', 'its five UK sites', 'ENT_POS')\n",
      "\t ('Center Parcs', 'latest to', 'its portfolio', 'ENT_POS')\n",
      "\t ('Center Parcs', 'at', 'Longford Forest', 'ENT_POS')\n",
      "\t ('Center Parcs', 'in', 'Ireland', 'ENT_POS')\n",
      "\t ('the most famous brands', 'in', 'the British leisure industry', 'ENT_POS')\n",
      "\t ('the most famous brands', 'drawing of', 'visitors', 'ENT_POS')\n",
      "\t ('the most famous brands', 'annually to', 'its five UK sites', 'ENT_POS')\n",
      "\t ('the most famous brands', 'latest to', 'its portfolio', 'ENT_POS')\n",
      "\t ('the most famous brands', 'at', 'Longford Forest', 'ENT_POS')\n",
      "\t ('the most famous brands', 'in', 'Ireland', 'ENT_POS')\n",
      "\t ('the British leisure industry', 'drawing of', 'visitors', 'ENT_POS')\n",
      "\t ('the British leisure industry', 'annually to', 'its five UK sites', 'ENT_POS')\n",
      "\t ('the British leisure industry', 'latest to', 'its portfolio', 'ENT_POS')\n",
      "\t ('the British leisure industry', 'at', 'Longford Forest', 'ENT_POS')\n",
      "\t ('the British leisure industry', 'in', 'Ireland', 'ENT_POS')\n",
      "\t ('millions', 'of', 'visitors', 'ENT_POS')\n",
      "\t ('millions', 'annually to', 'its five UK sites', 'ENT_POS')\n",
      "\t ('millions', 'latest to', 'its portfolio', 'ENT_POS')\n",
      "\t ('millions', 'at', 'Longford Forest', 'ENT_POS')\n",
      "\t ('millions', 'in', 'Ireland', 'ENT_POS')\n",
      "\t ('visitors', 'annually to', 'its five UK sites', 'ENT_POS')\n",
      "\t ('visitors', 'latest to', 'its portfolio', 'ENT_POS')\n",
      "\t ('visitors', 'at', 'Longford Forest', 'ENT_POS')\n",
      "\t ('visitors', 'in', 'Ireland', 'ENT_POS')\n",
      "\t ('its five UK sites', 'latest to', 'its portfolio', 'ENT_POS')\n",
      "\t ('its five UK sites', 'at', 'Longford Forest', 'ENT_POS')\n",
      "\t ('its five UK sites', 'in', 'Ireland', 'ENT_POS')\n",
      "\t ('its portfolio', 'at', 'Longford Forest', 'ENT_POS')\n",
      "\t ('its portfolio', 'in', 'Ireland', 'ENT_POS')\n",
      "\t ('Longford Forest', 'in', 'Ireland', 'ENT_POS')\n"
     ]
    }
   ],
   "source": [
    "for sent in list(doc.sents): \n",
    "    s_term_pos = \" \".join([f\"{t} ({t.tag_}|{t.dep_})\" for t in sent])\n",
    "    entities, keys = get_entities(sent, noun_chunks=True)\n",
    "    \n",
    "    sentence_relations = get_ent_pos_relations(doc,entities)\n",
    "    if sentence_relations is not None:\n",
    "        relations+=sentence_relations\n",
    "\n",
    "        print(s_term_pos)\n",
    "        for r in sentence_relations:\n",
    "            print('\\t',r)"
   ]
  },
  {
   "cell_type": "markdown",
   "metadata": {
    "tags": []
   },
   "source": [
    "## Visualise Entity Relationships"
   ]
  },
  {
   "cell_type": "code",
   "execution_count": 100,
   "metadata": {},
   "outputs": [],
   "source": [
    "import numpy as np\n",
    "import networkx as nx\n",
    "from networkx.algorithms.community import greedy_modularity_communities\n",
    "import community\n",
    "\n",
    "import matplotlib.pyplot as plt\n",
    "import matplotlib.cm as cm\n",
    "\n",
    "import joblib"
   ]
  },
  {
   "cell_type": "code",
   "execution_count": 101,
   "metadata": {},
   "outputs": [
    {
     "data": {
      "text/html": [
       "<div>\n",
       "<style scoped>\n",
       "    .dataframe tbody tr th:only-of-type {\n",
       "        vertical-align: middle;\n",
       "    }\n",
       "\n",
       "    .dataframe tbody tr th {\n",
       "        vertical-align: top;\n",
       "    }\n",
       "\n",
       "    .dataframe thead th {\n",
       "        text-align: right;\n",
       "    }\n",
       "</style>\n",
       "<table border=\"1\" class=\"dataframe\">\n",
       "  <thead>\n",
       "    <tr style=\"text-align: right;\">\n",
       "      <th></th>\n",
       "      <th>name1</th>\n",
       "      <th>relation</th>\n",
       "      <th>name2</th>\n",
       "      <th>relation_type</th>\n",
       "      <th>source_id</th>\n",
       "      <th>target_id</th>\n",
       "    </tr>\n",
       "  </thead>\n",
       "  <tbody>\n",
       "    <tr>\n",
       "      <th>0</th>\n",
       "      <td>Brookfield Property Partners</td>\n",
       "      <td>=IS</td>\n",
       "      <td>the Canadian property giant</td>\n",
       "      <td>DIRECT</td>\n",
       "      <td>0</td>\n",
       "      <td>1</td>\n",
       "    </tr>\n",
       "    <tr>\n",
       "      <th>1</th>\n",
       "      <td>Sky News</td>\n",
       "      <td>has learnt</td>\n",
       "      <td>Brookfield Property Partners</td>\n",
       "      <td>ENT_POS</td>\n",
       "      <td>2</td>\n",
       "      <td>0</td>\n",
       "    </tr>\n",
       "    <tr>\n",
       "      <th>2</th>\n",
       "      <td>Sky News</td>\n",
       "      <td>the Canadian property giant is paving to sell ...</td>\n",
       "      <td>this year</td>\n",
       "      <td>ENT_POS</td>\n",
       "      <td>2</td>\n",
       "      <td>3</td>\n",
       "    </tr>\n",
       "  </tbody>\n",
       "</table>\n",
       "</div>"
      ],
      "text/plain": [
       "                          name1  \\\n",
       "0  Brookfield Property Partners   \n",
       "1                      Sky News   \n",
       "2                      Sky News   \n",
       "\n",
       "                                            relation  \\\n",
       "0                                                =IS   \n",
       "1                                         has learnt   \n",
       "2  the Canadian property giant is paving to sell ...   \n",
       "\n",
       "                          name2 relation_type  source_id  target_id  \n",
       "0   the Canadian property giant        DIRECT          0          1  \n",
       "1  Brookfield Property Partners       ENT_POS          2          0  \n",
       "2                     this year       ENT_POS          2          3  "
      ]
     },
     "execution_count": 101,
     "metadata": {},
     "output_type": "execute_result"
    }
   ],
   "source": [
    "entity_relationships = pd.DataFrame(relations,columns=['name1','relation','name2','relation_type'])\n",
    "entity_map = {x:e for e,x in enumerate(pd.unique(entity_relationships[['name1','name2']].values.ravel()))}\n",
    "entity_relationships['source_id'] = entity_relationships['name1'].map(entity_map)\n",
    "entity_relationships['target_id'] = entity_relationships['name2'].map(entity_map)\n",
    "entity_relationships[:3]"
   ]
  },
  {
   "cell_type": "code",
   "execution_count": 153,
   "metadata": {
    "tags": []
   },
   "outputs": [
    {
     "data": {
      "text/plain": [
       "['graph.joblib']"
      ]
     },
     "execution_count": 153,
     "metadata": {},
     "output_type": "execute_result"
    }
   ],
   "source": [
    "# create graph\n",
    "G=nx.Graph(name='simple KG')\n",
    "\n",
    "# add nodes\n",
    "for k,v in entity_map.items():\n",
    "    G.add_node(v,name=k, ent_typ='node') \n",
    "node_labels = {node[0]:node[1]['name'] for node in G.nodes(data=True)}\n",
    "\n",
    "# add edges\n",
    "edges = [(row['source_id'],\n",
    "          row['target_id'],\n",
    "          {'weight':1, 'relation':row['relation']}) for ix,row in entity_relationships.iterrows()]\n",
    "edge_labels = {(row['source_id'],row['target_id']):row['relation'] for ix,row in entity_relationships.iterrows()}\n",
    "G.add_edges_from(edges)\n",
    "\n",
    "# save\n",
    "joblib.dump(G,'graph.joblib')"
   ]
  },
  {
   "cell_type": "code",
   "execution_count": 154,
   "metadata": {},
   "outputs": [],
   "source": [
    "# compute the best partition\n",
    "\n",
    "# for un-directed graphs\n",
    "# partition = community.best_partition(G)\n",
    "# node_color=list(partition.values\n",
    "\n",
    "# for directed graphs\n",
    "c = list(greedy_modularity_communities(G))\n",
    "node_color=dict()\n",
    "for e,s in enumerate(c):\n",
    "    for n in s:\n",
    "        node_color[n] = e\n",
    "node_color = [node_color[k] for k in sorted(node_color.keys())]"
   ]
  },
  {
   "cell_type": "code",
   "execution_count": 156,
   "metadata": {},
   "outputs": [
    {
     "data": {
      "text/plain": [
       "3"
      ]
     },
     "execution_count": 156,
     "metadata": {},
     "output_type": "execute_result"
    }
   ],
   "source": [
    "sg = [G.subgraph(c) for c in nx.connected_components(G)]\n",
    "len(sg)"
   ]
  },
  {
   "cell_type": "code",
   "execution_count": 166,
   "metadata": {},
   "outputs": [
    {
     "ename": "KeyError",
     "evalue": "6",
     "output_type": "error",
     "traceback": [
      "\u001b[1;31m---------------------------------------------------------------------------\u001b[0m",
      "\u001b[1;31mKeyError\u001b[0m                                  Traceback (most recent call last)",
      "\u001b[1;32m~\\AppData\\Local\\Temp\\ipykernel_12188\\1731899845.py\u001b[0m in \u001b[0;36m<module>\u001b[1;34m\u001b[0m\n\u001b[0;32m     16\u001b[0m                                  \u001b[0medge_labels\u001b[0m\u001b[1;33m=\u001b[0m\u001b[0medge_labels\u001b[0m\u001b[1;33m,\u001b[0m\u001b[1;33m\u001b[0m\u001b[1;33m\u001b[0m\u001b[0m\n\u001b[0;32m     17\u001b[0m                                  \u001b[0max\u001b[0m\u001b[1;33m=\u001b[0m\u001b[0max\u001b[0m\u001b[1;33m,\u001b[0m\u001b[1;33m\u001b[0m\u001b[1;33m\u001b[0m\u001b[0m\n\u001b[1;32m---> 18\u001b[1;33m                                  font_color='red')\n\u001b[0m\u001b[0;32m     19\u001b[0m \u001b[1;31m# plt.tight_layout()\u001b[0m\u001b[1;33m\u001b[0m\u001b[1;33m\u001b[0m\u001b[1;33m\u001b[0m\u001b[0m\n",
      "\u001b[1;32mC:\\ProgramData\\Miniconda3\\envs\\py37\\lib\\site-packages\\networkx\\drawing\\nx_pylab.py\u001b[0m in \u001b[0;36mdraw_networkx_edge_labels\u001b[1;34m(G, pos, edge_labels, label_pos, font_size, font_color, font_family, font_weight, alpha, bbox, horizontalalignment, verticalalignment, ax, rotate, clip_on)\u001b[0m\n\u001b[0;32m   1105\u001b[0m     \u001b[0mtext_items\u001b[0m \u001b[1;33m=\u001b[0m \u001b[1;33m{\u001b[0m\u001b[1;33m}\u001b[0m\u001b[1;33m\u001b[0m\u001b[1;33m\u001b[0m\u001b[0m\n\u001b[0;32m   1106\u001b[0m     \u001b[1;32mfor\u001b[0m \u001b[1;33m(\u001b[0m\u001b[0mn1\u001b[0m\u001b[1;33m,\u001b[0m \u001b[0mn2\u001b[0m\u001b[1;33m)\u001b[0m\u001b[1;33m,\u001b[0m \u001b[0mlabel\u001b[0m \u001b[1;32min\u001b[0m \u001b[0mlabels\u001b[0m\u001b[1;33m.\u001b[0m\u001b[0mitems\u001b[0m\u001b[1;33m(\u001b[0m\u001b[1;33m)\u001b[0m\u001b[1;33m:\u001b[0m\u001b[1;33m\u001b[0m\u001b[1;33m\u001b[0m\u001b[0m\n\u001b[1;32m-> 1107\u001b[1;33m         \u001b[1;33m(\u001b[0m\u001b[0mx1\u001b[0m\u001b[1;33m,\u001b[0m \u001b[0my1\u001b[0m\u001b[1;33m)\u001b[0m \u001b[1;33m=\u001b[0m \u001b[0mpos\u001b[0m\u001b[1;33m[\u001b[0m\u001b[0mn1\u001b[0m\u001b[1;33m]\u001b[0m\u001b[1;33m\u001b[0m\u001b[1;33m\u001b[0m\u001b[0m\n\u001b[0m\u001b[0;32m   1108\u001b[0m         \u001b[1;33m(\u001b[0m\u001b[0mx2\u001b[0m\u001b[1;33m,\u001b[0m \u001b[0my2\u001b[0m\u001b[1;33m)\u001b[0m \u001b[1;33m=\u001b[0m \u001b[0mpos\u001b[0m\u001b[1;33m[\u001b[0m\u001b[0mn2\u001b[0m\u001b[1;33m]\u001b[0m\u001b[1;33m\u001b[0m\u001b[1;33m\u001b[0m\u001b[0m\n\u001b[0;32m   1109\u001b[0m         (x, y) = (\n",
      "\u001b[1;31mKeyError\u001b[0m: 6"
     ]
    },
    {
     "data": {
      "image/png": "[encoded data removed]",
      "text/plain": [
       "<Figure size 720x2160 with 3 Axes>"
      ]
     },
     "metadata": {},
     "output_type": "display_data"
    }
   ],
   "source": [
    "# plot graph\n",
    "fig,axs = plt.subplots(3,1, figsize=(10,30))\n",
    "\n",
    "for ax,g in zip(axs.flatten(),sg):\n",
    "    pos = nx.layout.spring_layout(g,iterations=100,k=2)\n",
    "    nx.draw(g, \n",
    "            ax=ax,\n",
    "            pos=pos,\n",
    "            # node_color=node_color,\n",
    "            # labels=node_labels,\n",
    "            width=0.9)\n",
    "\n",
    "    nx.draw_networkx_edge_labels(\n",
    "                                 g,\n",
    "                                 pos,\n",
    "                                 # edge_labels=edge_labels,\n",
    "                                 ax=ax,\n",
    "                                 font_color='red')\n",
    "# plt.tight_layout()"
   ]
  },
  {
   "cell_type": "markdown",
   "metadata": {},
   "source": [
    "- We could also consider [sentence simplification](https://stackoverflow.com/questions/65227103/clause-extraction-long-sentence-segmentation-in-python)\n",
    "\n",
    "## Notes\n",
    "spaCy uses the terms **head** and **child** to describe the words connected by a single arc in the dependency tree. The term **dep** is used for the arc label, which describes the type of syntactic relation that connects the child to the head.\n",
    " \n",
    "```\n",
    " for token in doc:\n",
    "    print(token,[token.head],list(token.children),end='\\r')\n",
    "```\n",
    "\n",
    "## References\n",
    " - [information-extraction-with-dominating-rules](https://github.com/philipperemy/information-extraction-with-dominating-rules)\n",
    " - [Pruning Knowledge Graphs](http://philipperemy.github.io/information-extract/)\n",
    " - [OLLIE](https://www.reddit.com/r/LanguageTechnology/comments/bovsf5/we_release_opiec_the_largest_open_information/)\n",
    " - [Clausie](https://github.com/mmxgn/clausiepy)\n",
    " - [Minie](https://github.com/mmxgn/miniepy/graphs/contributors)\n",
    " - [Knowledge Graph – A Powerful Data Science Technique to Mine Information from Text](https://www.analyticsvidhya.com/blog/2019/10/how-to-build-knowledge-graph-text-using-spacy/)\n",
    " - [Spacy subject-object extraction](https://github.com/NSchrading/intro-spacy-nlp/blob/master/subject_object_extraction.py)\n",
    "     -  [SO dependency parsing](https://stackoverflow.com/questions/39763091/how-to-extract-subjects-in-a-sentence-and-their-respective-dependent-phrases)\n",
    " - [sentence simplification](https://stackoverflow.com/questions/65227103/clause-extraction-long-sentence-segmentation-in-python)"
   ]
  },
  {
   "cell_type": "markdown",
   "metadata": {},
   "source": []
  }
 ],
 "metadata": {
  "kernelspec": {
   "display_name": "py37",
   "language": "python",
   "name": "py37"
  },
  "language_info": {
   "codemirror_mode": {
    "name": "ipython",
    "version": 3
   },
   "file_extension": ".py",
   "mimetype": "text/x-python",
   "name": "python",
   "nbconvert_exporter": "python",
   "pygments_lexer": "ipython3",
   "version": "3.7.12"
  }
 },
 "nbformat": 4,
 "nbformat_minor": 4
}
