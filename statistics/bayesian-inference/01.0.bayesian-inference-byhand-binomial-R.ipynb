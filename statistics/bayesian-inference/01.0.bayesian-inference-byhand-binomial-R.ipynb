{
 "cells": [
  {
   "cell_type": "code",
   "execution_count": 1,
   "metadata": {},
   "outputs": [
    {
     "name": "stderr",
     "output_type": "stream",
     "text": [
      "\n",
      "Attaching package: ‘dplyr’\n",
      "\n",
      "The following objects are masked from ‘package:stats’:\n",
      "\n",
      "    filter, lag\n",
      "\n",
      "The following objects are masked from ‘package:base’:\n",
      "\n",
      "    intersect, setdiff, setequal, union\n",
      "\n",
      "Registered S3 methods overwritten by 'ggplot2':\n",
      "  method         from \n",
      "  [.quosures     rlang\n",
      "  c.quosures     rlang\n",
      "  print.quosures rlang\n",
      "Warning message:\n",
      "“package ‘cowplot’ was built under R version 3.6.3”"
     ]
    }
   ],
   "source": [
    "library(\"dplyr\")\n",
    "library(\"ggplot2\")\n",
    "library(\"cowplot\")"
   ]
  },
  {
   "cell_type": "markdown",
   "metadata": {},
   "source": [
    "#### Observations"
   ]
  },
  {
   "cell_type": "code",
   "execution_count": 10,
   "metadata": {},
   "outputs": [],
   "source": [
    "num_tails = 7\n",
    "num_heads = 3\n",
    "tosses = num_heads+num_tails"
   ]
  },
  {
   "cell_type": "markdown",
   "metadata": {},
   "source": [
    "#### Generates a \"Triangle\" Prior Probability Distribution"
   ]
  },
  {
   "cell_type": "code",
   "execution_count": 11,
   "metadata": {},
   "outputs": [
    {
     "data": {
      "text/html": [
       "<table>\n",
       "<thead><tr><th scope=col>theta</th><th scope=col>prior</th></tr></thead>\n",
       "<tbody>\n",
       "\t<tr><td>0.0 </td><td>0.00</td></tr>\n",
       "\t<tr><td>0.1 </td><td>0.04</td></tr>\n",
       "\t<tr><td>0.2 </td><td>0.08</td></tr>\n",
       "\t<tr><td>0.3 </td><td>0.12</td></tr>\n",
       "\t<tr><td>0.4 </td><td>0.16</td></tr>\n",
       "\t<tr><td>0.5 </td><td>0.20</td></tr>\n",
       "\t<tr><td>0.6 </td><td>0.16</td></tr>\n",
       "\t<tr><td>0.7 </td><td>0.12</td></tr>\n",
       "\t<tr><td>0.8 </td><td>0.08</td></tr>\n",
       "\t<tr><td>0.9 </td><td>0.04</td></tr>\n",
       "\t<tr><td>1.0 </td><td>0.00</td></tr>\n",
       "</tbody>\n",
       "</table>\n"
      ],
      "text/latex": [
       "\\begin{tabular}{r|ll}\n",
       " theta & prior\\\\\n",
       "\\hline\n",
       "\t 0.0  & 0.00\\\\\n",
       "\t 0.1  & 0.04\\\\\n",
       "\t 0.2  & 0.08\\\\\n",
       "\t 0.3  & 0.12\\\\\n",
       "\t 0.4  & 0.16\\\\\n",
       "\t 0.5  & 0.20\\\\\n",
       "\t 0.6  & 0.16\\\\\n",
       "\t 0.7  & 0.12\\\\\n",
       "\t 0.8  & 0.08\\\\\n",
       "\t 0.9  & 0.04\\\\\n",
       "\t 1.0  & 0.00\\\\\n",
       "\\end{tabular}\n"
      ],
      "text/markdown": [
       "\n",
       "| theta | prior |\n",
       "|---|---|\n",
       "| 0.0  | 0.00 |\n",
       "| 0.1  | 0.04 |\n",
       "| 0.2  | 0.08 |\n",
       "| 0.3  | 0.12 |\n",
       "| 0.4  | 0.16 |\n",
       "| 0.5  | 0.20 |\n",
       "| 0.6  | 0.16 |\n",
       "| 0.7  | 0.12 |\n",
       "| 0.8  | 0.08 |\n",
       "| 0.9  | 0.04 |\n",
       "| 1.0  | 0.00 |\n",
       "\n"
      ],
      "text/plain": [
       "   theta prior\n",
       "1  0.0   0.00 \n",
       "2  0.1   0.04 \n",
       "3  0.2   0.08 \n",
       "4  0.3   0.12 \n",
       "5  0.4   0.16 \n",
       "6  0.5   0.20 \n",
       "7  0.6   0.16 \n",
       "8  0.7   0.12 \n",
       "9  0.8   0.08 \n",
       "10 0.9   0.04 \n",
       "11 1.0   0.00 "
      ]
     },
     "metadata": {},
     "output_type": "display_data"
    }
   ],
   "source": [
    "#' Generates a \"Triangle\" Prior Probability Distribution\n",
    "#'\n",
    "#' @param vals Sample space of all possible parameter values.\n",
    "#' @return 2 column dataframe containing the parameter and its corresponding\n",
    "#'   prior probability.\n",
    "get_prior_distr <- function(vals) {\n",
    "  vals_pmin <- pmin(vals, 1 - vals)\n",
    "\n",
    "  # Normalize the prior so that they sum to 1.\n",
    "  tibble::tibble(\n",
    "    theta = vals,\n",
    "    prior = vals_pmin / sum(vals_pmin)\n",
    "  )\n",
    "}\n",
    "\n",
    "# Define the Space of all theta values\n",
    "theta_vals <- seq(0, 1, 0.1)\n",
    "\n",
    "theta_prior_distr_df <- get_prior_distr(theta_vals)\n",
    "theta_prior_distr_df"
   ]
  },
  {
   "cell_type": "markdown",
   "metadata": {},
   "source": [
    "#### Plots the Prior Probability Distribution"
   ]
  },
  {
   "cell_type": "code",
   "execution_count": 12,
   "metadata": {},
   "outputs": [
    {
     "data": {
      "image/png": "[encoded data removed]",
      "text/plain": [
       "plot without title"
      ]
     },
     "metadata": {},
     "output_type": "display_data"
    }
   ],
   "source": [
    "#' Plots the Prior Probability Distribution\n",
    "#'\n",
    "#' @param prior_distr_df Prior probability distribution dataframe from \n",
    "#'   get_prior_distr().\n",
    "#' @param plot_x_labels Plot the parameter values on the x-axes that are taken\n",
    "#'  from the input data.\n",
    "#' @return ggplot of the prior probability distribution\n",
    "plot_prior_distr <- function(prior_distr_df, plot_x_labels = TRUE) {\n",
    "\n",
    "  theta_prior_p <- \n",
    "    prior_distr_df %>%\n",
    "    ggplot(aes(x = theta, y = prior)) +\n",
    "    geom_point() +\n",
    "    geom_segment(aes(x = theta, xend = theta, y = prior, yend = 0)) +\n",
    "    xlab(expression(theta)) +\n",
    "    ylab(expression(paste(\"P(\", theta, \")\"))) +\n",
    "    ggtitle(\"Prior Distribution\") \n",
    "\n",
    "  if (plot_x_labels) {\n",
    "    theta_vals <- prior_distr_df[[\"theta\"]]\n",
    "\n",
    "    theta_prior_p <- \n",
    "      theta_prior_p + \n",
    "      scale_x_continuous(breaks = c(theta_vals), labels = theta_vals)\n",
    "  }\n",
    "\n",
    "  return(theta_prior_p)\n",
    "}\n",
    "\n",
    "plot_prior_distr(theta_prior_distr_df)"
   ]
  },
  {
   "cell_type": "markdown",
   "metadata": {},
   "source": [
    "#### Get the Likelihood Probability Distribution"
   ]
  },
  {
   "cell_type": "code",
   "execution_count": 27,
   "metadata": {},
   "outputs": [
    {
     "data": {
      "text/html": [
       "<table>\n",
       "<thead><tr><th scope=col>theta</th><th scope=col>likelihood</th><th scope=col>binoms</th></tr></thead>\n",
       "<tbody>\n",
       "\t<tr><td>0.0         </td><td>0.0000000000</td><td>0.000000000 </td></tr>\n",
       "\t<tr><td>0.1         </td><td>0.0000000729</td><td>0.000008748 </td></tr>\n",
       "\t<tr><td>0.2         </td><td>0.0000065536</td><td>0.000786432 </td></tr>\n",
       "\t<tr><td>0.3         </td><td>0.0000750141</td><td>0.009001692 </td></tr>\n",
       "\t<tr><td>0.4         </td><td>0.0003538944</td><td>0.042467328 </td></tr>\n",
       "\t<tr><td>0.5         </td><td>0.0009765625</td><td>0.117187500 </td></tr>\n",
       "\t<tr><td>0.6         </td><td>0.0017915904</td><td>0.214990848 </td></tr>\n",
       "\t<tr><td>0.7         </td><td>0.0022235661</td><td>0.266827932 </td></tr>\n",
       "\t<tr><td>0.8         </td><td>0.0016777216</td><td>0.201326592 </td></tr>\n",
       "\t<tr><td>0.9         </td><td>0.0004782969</td><td>0.057395628 </td></tr>\n",
       "\t<tr><td>1.0         </td><td>0.0000000000</td><td>0.000000000 </td></tr>\n",
       "</tbody>\n",
       "</table>\n"
      ],
      "text/latex": [
       "\\begin{tabular}{r|lll}\n",
       " theta & likelihood & binoms\\\\\n",
       "\\hline\n",
       "\t 0.0          & 0.0000000000 & 0.000000000 \\\\\n",
       "\t 0.1          & 0.0000000729 & 0.000008748 \\\\\n",
       "\t 0.2          & 0.0000065536 & 0.000786432 \\\\\n",
       "\t 0.3          & 0.0000750141 & 0.009001692 \\\\\n",
       "\t 0.4          & 0.0003538944 & 0.042467328 \\\\\n",
       "\t 0.5          & 0.0009765625 & 0.117187500 \\\\\n",
       "\t 0.6          & 0.0017915904 & 0.214990848 \\\\\n",
       "\t 0.7          & 0.0022235661 & 0.266827932 \\\\\n",
       "\t 0.8          & 0.0016777216 & 0.201326592 \\\\\n",
       "\t 0.9          & 0.0004782969 & 0.057395628 \\\\\n",
       "\t 1.0          & 0.0000000000 & 0.000000000 \\\\\n",
       "\\end{tabular}\n"
      ],
      "text/markdown": [
       "\n",
       "| theta | likelihood | binoms |\n",
       "|---|---|---|\n",
       "| 0.0          | 0.0000000000 | 0.000000000  |\n",
       "| 0.1          | 0.0000000729 | 0.000008748  |\n",
       "| 0.2          | 0.0000065536 | 0.000786432  |\n",
       "| 0.3          | 0.0000750141 | 0.009001692  |\n",
       "| 0.4          | 0.0003538944 | 0.042467328  |\n",
       "| 0.5          | 0.0009765625 | 0.117187500  |\n",
       "| 0.6          | 0.0017915904 | 0.214990848  |\n",
       "| 0.7          | 0.0022235661 | 0.266827932  |\n",
       "| 0.8          | 0.0016777216 | 0.201326592  |\n",
       "| 0.9          | 0.0004782969 | 0.057395628  |\n",
       "| 1.0          | 0.0000000000 | 0.000000000  |\n",
       "\n"
      ],
      "text/plain": [
       "   theta likelihood   binoms     \n",
       "1  0.0   0.0000000000 0.000000000\n",
       "2  0.1   0.0000000729 0.000008748\n",
       "3  0.2   0.0000065536 0.000786432\n",
       "4  0.3   0.0000750141 0.009001692\n",
       "5  0.4   0.0003538944 0.042467328\n",
       "6  0.5   0.0009765625 0.117187500\n",
       "7  0.6   0.0017915904 0.214990848\n",
       "8  0.7   0.0022235661 0.266827932\n",
       "9  0.8   0.0016777216 0.201326592\n",
       "10 0.9   0.0004782969 0.057395628\n",
       "11 1.0   0.0000000000 0.000000000"
      ]
     },
     "metadata": {},
     "output_type": "display_data"
    }
   ],
   "source": [
    "#' Get the Likelihood Probability Distribution\n",
    "#'\n",
    "#' Generates a likelihood probability distribution dataframe\n",
    "#'\n",
    "#' @param theta_vals Vector of theta values for the binomial distribution.\n",
    "#' @param num_heads Number of heads.\n",
    "#' @param num_tails Number of tails.\n",
    "#' @return Dataframe of the likelihood probability distribution.\n",
    "get_likelihood_df <- function(theta_vals, num_heads, num_tails) {\n",
    "  \n",
    "  # qst assing using likelihood probability function  \n",
    "  likelihood.vals <- c()\n",
    "  for (cur.theta.val in theta_vals) {\n",
    "    likelihood.vals <- \n",
    "      c(likelihood.vals, \n",
    "        (cur.theta.val^num_tails) * (1 - cur.theta.val)^(num_heads))\n",
    "  }\n",
    "\n",
    "    # then overwrites?? withbinom function priors\n",
    "    binoms <- dbinom(num_tails, num_heads + num_tails, theta_vals)\n",
    "    likelihood_df <- \n",
    "    tibble::tibble(\n",
    "        theta = theta_vals,\n",
    "        likelihood = likelihood.vals,\n",
    "        binoms = binoms\n",
    "    )\n",
    "\n",
    "  return(likelihood_df)\n",
    "}\n",
    "\n",
    "likelihood_df = get_likelihood_df(theta_vals,num_heads,num_tails)\n",
    "likelihood_df"
   ]
  },
  {
   "cell_type": "markdown",
   "metadata": {},
   "source": [
    "#### Get Posterior Probability Distribution"
   ]
  },
  {
   "cell_type": "code",
   "execution_count": 14,
   "metadata": {},
   "outputs": [],
   "source": [
    "#' Get Posterior Probability Distribution\n",
    "#' \n",
    "#' Generate a posterior probability distribution dataframe.\n",
    "#'\n",
    "#' @param likelihood_df Likelihood distribution dataframe from \n",
    "#'   get_likelihood_df().\n",
    "#' @param theta_prior_distr_df Prior distribution dataframe from \n",
    "#'   get_prior_distr().\n",
    "#' @return Dataframe with 4 columns:\n",
    "#'   * theta: Theta value.\n",
    "#'   * likelihood: Binomial likelihood of the observed data with the specific \n",
    "#'       theta.\n",
    "#'   * prior: Prior of the theta value.\n",
    "#'   * post_prob: Pposterior probability\n",
    "get_posterior_df <- function(likelihood_df, prior_distr_df) {\n",
    "\n",
    "    # left join on theta\n",
    "    likelihood_prior_df <- \n",
    "    dplyr::left_join(likelihood_df, prior_distr_df, by = \"theta\")\n",
    "    \n",
    "    # marginal = sum(likelihood*prior)\n",
    "    marg_likelihood <- \n",
    "        likelihood_prior_df %>%\n",
    "            dplyr::mutate(\n",
    "              likelihood_theta = .data[[\"likelihood\"]] * .data[[\"prior\"]]\n",
    "            ) %>%\n",
    "            dplyr::pull(\"likelihood_theta\") %>%\n",
    "            sum()\n",
    "\n",
    "    # posterior = (likelihood * prior) / marg_likelihood\n",
    "    posterior_df <- \n",
    "    dplyr::mutate(\n",
    "    likelihood_prior_df, \n",
    "    post_prob = (likelihood * prior) / marg_likelihood\n",
    "    )\n",
    "\n",
    "  return(posterior_df)\n",
    "}"
   ]
  },
  {
   "cell_type": "code",
   "execution_count": 18,
   "metadata": {},
   "outputs": [
    {
     "data": {
      "text/html": [
       "<table>\n",
       "<thead><tr><th scope=col>theta</th><th scope=col>likelihood</th><th scope=col>binoms</th><th scope=col>prior</th><th scope=col>post_prob</th></tr></thead>\n",
       "<tbody>\n",
       "\t<tr><td>0.0         </td><td>0.0000000000</td><td>0.000000000 </td><td>0.00        </td><td>0.000000e+00</td></tr>\n",
       "\t<tr><td>0.1         </td><td>0.0000000729</td><td>0.000008748 </td><td>0.04        </td><td>3.011474e-06</td></tr>\n",
       "\t<tr><td>0.2         </td><td>0.0000065536</td><td>0.000786432 </td><td>0.08        </td><td>5.414540e-04</td></tr>\n",
       "\t<tr><td>0.3         </td><td>0.0000750141</td><td>0.009001692 </td><td>0.12        </td><td>9.296421e-03</td></tr>\n",
       "\t<tr><td>0.4         </td><td>0.0003538944</td><td>0.042467328 </td><td>0.16        </td><td>5.847703e-02</td></tr>\n",
       "\t<tr><td>0.5         </td><td>0.0009765625</td><td>0.117187500 </td><td>0.20        </td><td>2.017073e-01</td></tr>\n",
       "\t<tr><td>0.6         </td><td>0.0017915904</td><td>0.214990848 </td><td>0.16        </td><td>2.960400e-01</td></tr>\n",
       "\t<tr><td>0.7         </td><td>0.0022235661</td><td>0.266827932 </td><td>0.12        </td><td>2.755643e-01</td></tr>\n",
       "\t<tr><td>0.8         </td><td>0.0016777216</td><td>0.201326592 </td><td>0.08        </td><td>1.386122e-01</td></tr>\n",
       "\t<tr><td>0.9         </td><td>0.0004782969</td><td>0.057395628 </td><td>0.04        </td><td>1.975828e-02</td></tr>\n",
       "\t<tr><td>1.0         </td><td>0.0000000000</td><td>0.000000000 </td><td>0.00        </td><td>0.000000e+00</td></tr>\n",
       "</tbody>\n",
       "</table>\n"
      ],
      "text/latex": [
       "\\begin{tabular}{r|lllll}\n",
       " theta & likelihood & binoms & prior & post\\_prob\\\\\n",
       "\\hline\n",
       "\t 0.0          & 0.0000000000 & 0.000000000  & 0.00         & 0.000000e+00\\\\\n",
       "\t 0.1          & 0.0000000729 & 0.000008748  & 0.04         & 3.011474e-06\\\\\n",
       "\t 0.2          & 0.0000065536 & 0.000786432  & 0.08         & 5.414540e-04\\\\\n",
       "\t 0.3          & 0.0000750141 & 0.009001692  & 0.12         & 9.296421e-03\\\\\n",
       "\t 0.4          & 0.0003538944 & 0.042467328  & 0.16         & 5.847703e-02\\\\\n",
       "\t 0.5          & 0.0009765625 & 0.117187500  & 0.20         & 2.017073e-01\\\\\n",
       "\t 0.6          & 0.0017915904 & 0.214990848  & 0.16         & 2.960400e-01\\\\\n",
       "\t 0.7          & 0.0022235661 & 0.266827932  & 0.12         & 2.755643e-01\\\\\n",
       "\t 0.8          & 0.0016777216 & 0.201326592  & 0.08         & 1.386122e-01\\\\\n",
       "\t 0.9          & 0.0004782969 & 0.057395628  & 0.04         & 1.975828e-02\\\\\n",
       "\t 1.0          & 0.0000000000 & 0.000000000  & 0.00         & 0.000000e+00\\\\\n",
       "\\end{tabular}\n"
      ],
      "text/markdown": [
       "\n",
       "| theta | likelihood | binoms | prior | post_prob |\n",
       "|---|---|---|---|---|\n",
       "| 0.0          | 0.0000000000 | 0.000000000  | 0.00         | 0.000000e+00 |\n",
       "| 0.1          | 0.0000000729 | 0.000008748  | 0.04         | 3.011474e-06 |\n",
       "| 0.2          | 0.0000065536 | 0.000786432  | 0.08         | 5.414540e-04 |\n",
       "| 0.3          | 0.0000750141 | 0.009001692  | 0.12         | 9.296421e-03 |\n",
       "| 0.4          | 0.0003538944 | 0.042467328  | 0.16         | 5.847703e-02 |\n",
       "| 0.5          | 0.0009765625 | 0.117187500  | 0.20         | 2.017073e-01 |\n",
       "| 0.6          | 0.0017915904 | 0.214990848  | 0.16         | 2.960400e-01 |\n",
       "| 0.7          | 0.0022235661 | 0.266827932  | 0.12         | 2.755643e-01 |\n",
       "| 0.8          | 0.0016777216 | 0.201326592  | 0.08         | 1.386122e-01 |\n",
       "| 0.9          | 0.0004782969 | 0.057395628  | 0.04         | 1.975828e-02 |\n",
       "| 1.0          | 0.0000000000 | 0.000000000  | 0.00         | 0.000000e+00 |\n",
       "\n"
      ],
      "text/plain": [
       "   theta likelihood   binoms      prior post_prob   \n",
       "1  0.0   0.0000000000 0.000000000 0.00  0.000000e+00\n",
       "2  0.1   0.0000000729 0.000008748 0.04  3.011474e-06\n",
       "3  0.2   0.0000065536 0.000786432 0.08  5.414540e-04\n",
       "4  0.3   0.0000750141 0.009001692 0.12  9.296421e-03\n",
       "5  0.4   0.0003538944 0.042467328 0.16  5.847703e-02\n",
       "6  0.5   0.0009765625 0.117187500 0.20  2.017073e-01\n",
       "7  0.6   0.0017915904 0.214990848 0.16  2.960400e-01\n",
       "8  0.7   0.0022235661 0.266827932 0.12  2.755643e-01\n",
       "9  0.8   0.0016777216 0.201326592 0.08  1.386122e-01\n",
       "10 0.9   0.0004782969 0.057395628 0.04  1.975828e-02\n",
       "11 1.0   0.0000000000 0.000000000 0.00  0.000000e+00"
      ]
     },
     "metadata": {},
     "output_type": "display_data"
    }
   ],
   "source": [
    "posterior_df = get_posterior_df(likelihood_df,theta_prior_distr_df)\n",
    "posterior_df"
   ]
  },
  {
   "cell_type": "code",
   "execution_count": 28,
   "metadata": {},
   "outputs": [],
   "source": [
    "#' Plots Likelihood Probability Distribution\n",
    "plot_likelihood_prob_distr <- function(likelihood_df) {\n",
    "  likelihood_df %>%\n",
    "  ggplot(aes(x = theta, y = likelihood)) +\n",
    "  geom_point() +\n",
    "  geom_segment(aes(x = theta, xend = theta, y = likelihood, yend = 0)) +\n",
    "  xlab(expression(theta)) +\n",
    "  ylab(expression(paste(\"P(D|\", theta, \")\"))) +\n",
    "  ggtitle(\"Likelihood Distribution\")\n",
    "}\n",
    "\n",
    "#' Plots Posterior Probability Distribution\n",
    "plot_posterior_prob_distr <- function(posterior_df, theta_vals) {\n",
    "  posterior_df %>%\n",
    "  ggplot(aes(x = theta, y = post_prob)) +\n",
    "  geom_point() +\n",
    "  geom_segment(aes(x = theta, xend = theta, y = post_prob, yend = 0)) +\n",
    "  xlab(expression(theta)) +\n",
    "  ylab(expression(paste(\"P(\", theta, \"|D)\"))) +\n",
    "  ggtitle(\"Posterior Distribution\")\n",
    "}\n",
    "\n",
    "likelihood_df <- get_likelihood_df(theta_vals, num_heads,num_tails)\n",
    "posterior_df <- get_posterior_df(likelihood_df, theta_prior_distr_df)"
   ]
  },
  {
   "cell_type": "code",
   "execution_count": 29,
   "metadata": {},
   "outputs": [
    {
     "data": {
      "image/png": "[encoded data removed]",
      "text/plain": [
       "plot without title"
      ]
     },
     "metadata": {},
     "output_type": "display_data"
    }
   ],
   "source": [
    "plot_grid(\n",
    "  plot_prior_distr(theta_prior_distr_df),\n",
    "  plot_likelihood_prob_distr(likelihood_df),\n",
    "  plot_posterior_prob_distr(posterior_df, theta_vals),\n",
    "  nrow = 3\n",
    ")"
   ]
  },
  {
   "cell_type": "code",
   "execution_count": null,
   "metadata": {},
   "outputs": [],
   "source": []
  }
 ],
 "metadata": {
  "kernelspec": {
   "display_name": "R [conda env:r_env]",
   "language": "R",
   "name": "conda-env-r_env-r"
  },
  "language_info": {
   "codemirror_mode": "r",
   "file_extension": ".r",
   "mimetype": "text/x-r-source",
   "name": "R",
   "pygments_lexer": "r",
   "version": "3.6.1"
  }
 },
 "nbformat": 4,
 "nbformat_minor": 4
}
